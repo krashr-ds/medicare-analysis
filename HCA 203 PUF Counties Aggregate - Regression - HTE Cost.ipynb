{
 "cells": [
  {
   "cell_type": "markdown",
   "metadata": {},
   "source": [
    "# PUF Counties Aggregate - Regression - HTE Cost\n",
    "\n",
    "DeSYNPuf Counties Aggregate with Elixhauser Sums per User & RWJF Factor Rankings Dataset\n",
    "\n",
    "Performed on the 975 Counties Identified by the Risk Adjustment Model, after Factor Analysis and minimal outlier removal"
   ]
  },
  {
   "cell_type": "code",
   "execution_count": 6,
   "metadata": {},
   "outputs": [],
   "source": [
    "%matplotlib inline\n",
    "import seaborn as sb\n",
    "import numpy as np\n",
    "import pandas as pd\n",
    "import matplotlib.pyplot as plt\n",
    "\n",
    "import sklearn.preprocessing as pre\n",
    "import statsmodels.api as sm"
   ]
  },
  {
   "cell_type": "code",
   "execution_count": 7,
   "metadata": {
    "scrolled": true
   },
   "outputs": [
    {
     "data": {
      "text/plain": [
       "(975, 80)"
      ]
     },
     "execution_count": 7,
     "metadata": {},
     "output_type": "execute_result"
    }
   ],
   "source": [
    "medicare_counties = pd.read_csv(\"/home/kylier/python/DS/data/PUF/HIGHER_THAN_PREDICTED_FACTORS.csv\")\n",
    "medicare_counties.shape\n"
   ]
  },
  {
   "cell_type": "code",
   "execution_count": 8,
   "metadata": {},
   "outputs": [],
   "source": [
    "medicare_counties.drop(columns=medicare_counties.columns[0], axis=1, inplace=True, errors=\"ignore\")"
   ]
  },
  {
   "cell_type": "code",
   "execution_count": 9,
   "metadata": {},
   "outputs": [
    {
     "name": "stdout",
     "output_type": "stream",
     "text": [
      "<class 'pandas.core.frame.DataFrame'>\n",
      "RangeIndex: 975 entries, 0 to 974\n",
      "Data columns (total 79 columns):\n",
      " #   Column                      Non-Null Count  Dtype  \n",
      "---  ------                      --------------  -----  \n",
      " 0   FIPS_STATE_CODE             975 non-null    int64  \n",
      " 1   FIPS_COUNTY_CODE            975 non-null    int64  \n",
      " 2   CNTY_BENE_CT                975 non-null    int64  \n",
      " 3   CNTY_BENE_USRS              975 non-null    int64  \n",
      " 4   CNTY_MEAN_AGE               975 non-null    float64\n",
      " 5   CNTY_SEX_PROP               975 non-null    float64\n",
      " 6   TOT_CNCR_CASES              975 non-null    int64  \n",
      " 7   TOT_STRKETIA_CASES          975 non-null    int64  \n",
      " 8   TOT_ESRD_CASES              975 non-null    int64  \n",
      " 9   CNTY_TOT_VSTS               975 non-null    int64  \n",
      " 10  CNTY_TOT_IP_VSTS            975 non-null    int64  \n",
      " 11  CNTY_TOT_OP_VSTS            975 non-null    int64  \n",
      " 12  CNTY_TOT_CODES              975 non-null    float64\n",
      " 13  CNTY_TOT_PROCS              975 non-null    float64\n",
      " 14  CNTY_MEAN_IP_STAY           975 non-null    float64\n",
      " 15  CBSA                        389 non-null    float64\n",
      " 16  CNTY_TOT_CCS                975 non-null    int64  \n",
      " 17  CNTY_MEAN_CCS               975 non-null    float64\n",
      " 18  CNTY_TOT_NEW_CCS            975 non-null    int64  \n",
      " 19  CNTY_MEAN_NEW_CCS           975 non-null    float64\n",
      " 20  CNTY_SUM_ELIX_SCORES        975 non-null    float64\n",
      " 21  CNTY_TOT_IP_COST            975 non-null    int64  \n",
      " 22  CNTY_TOT_OP_COST            975 non-null    int64  \n",
      " 23  CNTY_ALL_COSTS              975 non-null    int64  \n",
      " 24  CNTY_PERCENT_COSTS          975 non-null    float64\n",
      " 25  CNTY_USR_PROP               975 non-null    float64\n",
      " 26  CNTY_IP_PROP                975 non-null    float64\n",
      " 27  CNTY_AGE_95CIL              959 non-null    float64\n",
      " 28  CNTY_AGE_95CIU              959 non-null    float64\n",
      " 29  CNTY_PROP_NH_WHITE          975 non-null    float64\n",
      " 30  CNTY_PROP_AA_BLACK          975 non-null    float64\n",
      " 31  CNTY_PROP_OTHER             975 non-null    float64\n",
      " 32  CNTY_PROP_NW_HISPANIC       975 non-null    float64\n",
      " 33  TOT_CNCR_PREV               975 non-null    float64\n",
      " 34  TOT_STRK_PREV               975 non-null    float64\n",
      " 35  TOT_ESRD_PREV               975 non-null    float64\n",
      " 36  TOT_CVRG_MOS_PB_PY          975 non-null    float64\n",
      " 37  TOT_RXCVRG_MOS_PB_PY        975 non-null    float64\n",
      " 38  TOT_VSTS_PB                 975 non-null    float64\n",
      " 39  TOT_VSTS_PU                 975 non-null    float64\n",
      " 40  TOT_IP_VSTS_PU              975 non-null    float64\n",
      " 41  TOT_OP_VSTS_PU              975 non-null    float64\n",
      " 42  CODES_PU                    975 non-null    float64\n",
      " 43  PROCS_PU                    975 non-null    float64\n",
      " 44  PRVDRS_PU                   975 non-null    float64\n",
      " 45  TOT_IPDAYS_PU               975 non-null    float64\n",
      " 46  TOT_CC_PREV                 975 non-null    float64\n",
      " 47  TOT_CCS_PU                  975 non-null    float64\n",
      " 48  TOT_CC_INCD                 975 non-null    float64\n",
      " 49  TOT_NEW_CC_PU               975 non-null    float64\n",
      " 50  TOT_ELIX_PU                 975 non-null    float64\n",
      " 51  TOT_IP_COST_PB              975 non-null    float64\n",
      " 52  TOT_OP_COST_PB              975 non-null    float64\n",
      " 53  TOT_COST_PB                 975 non-null    float64\n",
      " 54  FIPS                        975 non-null    int64  \n",
      " 55  STATE                       975 non-null    object \n",
      " 56  COUNTY                      975 non-null    object \n",
      " 57  NUM_COUNTIES                975 non-null    int64  \n",
      " 58  HO_RANK                     975 non-null    int64  \n",
      " 59  HO_PROP_RANK                975 non-null    float64\n",
      " 60  HO_QUARTILE                 975 non-null    int64  \n",
      " 61  HF_RANK                     975 non-null    int64  \n",
      " 62  HF_PROP_RANK                975 non-null    float64\n",
      " 63  HF_QUARTILE                 975 non-null    int64  \n",
      " 64  HF_HIGH                     975 non-null    int64  \n",
      " 65  HIGH_SEV                    975 non-null    int64  \n",
      " 66  HIGH_PROCS                  975 non-null    int64  \n",
      " 67  DIVERSE_PROP                975 non-null    float64\n",
      " 68  TOT_COST_PB Predicted       975 non-null    float64\n",
      " 69  Lower 95% Mean TOT_COST_PB  975 non-null    float64\n",
      " 70  Upper 95% Mean TOT_COST_PB  975 non-null    float64\n",
      " 71  Residuals                   975 non-null    float64\n",
      " 72  HIGHER_COST                 975 non-null    int64  \n",
      " 73  SR_TOT_IPDAYS               975 non-null    float64\n",
      " 74  SR_TOT_COST_PB              975 non-null    float64\n",
      " 75  FACTORS_1                   975 non-null    float64\n",
      " 76  FACTORS_2                   975 non-null    float64\n",
      " 77  FACTORS_3                   975 non-null    float64\n",
      " 78  D_FACTOR                    975 non-null    float64\n",
      "dtypes: float64(52), int64(25), object(2)\n",
      "memory usage: 601.9+ KB\n"
     ]
    }
   ],
   "source": [
    "medicare_counties.info()"
   ]
  },
  {
   "cell_type": "markdown",
   "metadata": {},
   "source": [
    "## Gamma Regression\n",
    "\n",
    "The purpose of this notebook is attempt to perform GLM / Gamma / Log link regression against the COST variable using the variables defined by Factor Analysis, and then with the Factors created to see how they predict cost.\n",
    "\n",
    "I am adding the variables HF_PROP_RANK, HO_PROP_RANK to the initial model, to see how they fare.\n",
    "\n",
    "NOTE: The statsmodel API documentation recommends adding a constant to the X variables prior to modeling."
   ]
  },
  {
   "cell_type": "code",
   "execution_count": 32,
   "metadata": {},
   "outputs": [
    {
     "data": {
      "text/html": [
       "<div>\n",
       "<style scoped>\n",
       "    .dataframe tbody tr th:only-of-type {\n",
       "        vertical-align: middle;\n",
       "    }\n",
       "\n",
       "    .dataframe tbody tr th {\n",
       "        vertical-align: top;\n",
       "    }\n",
       "\n",
       "    .dataframe thead th {\n",
       "        text-align: right;\n",
       "    }\n",
       "</style>\n",
       "<table border=\"1\" class=\"dataframe\">\n",
       "  <thead>\n",
       "    <tr style=\"text-align: right;\">\n",
       "      <th></th>\n",
       "      <th>CNTY_USR_PROP</th>\n",
       "      <th>TOT_ESRD_PREV</th>\n",
       "      <th>TOT_CVRG_MOS_PB_PY</th>\n",
       "      <th>TOT_RXCVRG_MOS_PB_PY</th>\n",
       "      <th>TOT_IP_VSTS_PU</th>\n",
       "      <th>TOT_OP_VSTS_PU</th>\n",
       "      <th>CODES_PU</th>\n",
       "      <th>PROCS_PU</th>\n",
       "      <th>PRVDRS_PU</th>\n",
       "      <th>TOT_IPDAYS_PU</th>\n",
       "      <th>TOT_CC_PREV</th>\n",
       "      <th>TOT_CC_INCD</th>\n",
       "      <th>TOT_ELIX_PU</th>\n",
       "      <th>HO_PROP_RANK</th>\n",
       "      <th>HF_PROP_RANK</th>\n",
       "      <th>DIVERSE_PROP</th>\n",
       "    </tr>\n",
       "  </thead>\n",
       "  <tbody>\n",
       "    <tr>\n",
       "      <th>0</th>\n",
       "      <td>0.500000</td>\n",
       "      <td>0.500000</td>\n",
       "      <td>12.000000</td>\n",
       "      <td>11.500000</td>\n",
       "      <td>1.000000</td>\n",
       "      <td>20.000000</td>\n",
       "      <td>20.666667</td>\n",
       "      <td>25.666667</td>\n",
       "      <td>2.000000</td>\n",
       "      <td>8.000000</td>\n",
       "      <td>2.500000</td>\n",
       "      <td>0.500000</td>\n",
       "      <td>0.766667</td>\n",
       "      <td>0.714</td>\n",
       "      <td>0.804</td>\n",
       "      <td>0.000000</td>\n",
       "    </tr>\n",
       "    <tr>\n",
       "      <th>1</th>\n",
       "      <td>1.000000</td>\n",
       "      <td>0.000000</td>\n",
       "      <td>12.000000</td>\n",
       "      <td>12.000000</td>\n",
       "      <td>0.000000</td>\n",
       "      <td>38.000000</td>\n",
       "      <td>28.333333</td>\n",
       "      <td>39.333333</td>\n",
       "      <td>6.000000</td>\n",
       "      <td>0.000000</td>\n",
       "      <td>4.000000</td>\n",
       "      <td>1.000000</td>\n",
       "      <td>1.088889</td>\n",
       "      <td>0.102</td>\n",
       "      <td>0.707</td>\n",
       "      <td>1.000000</td>\n",
       "    </tr>\n",
       "    <tr>\n",
       "      <th>2</th>\n",
       "      <td>1.000000</td>\n",
       "      <td>0.000000</td>\n",
       "      <td>12.000000</td>\n",
       "      <td>12.000000</td>\n",
       "      <td>0.000000</td>\n",
       "      <td>33.000000</td>\n",
       "      <td>32.666667</td>\n",
       "      <td>59.000000</td>\n",
       "      <td>5.333333</td>\n",
       "      <td>0.000000</td>\n",
       "      <td>8.000000</td>\n",
       "      <td>4.000000</td>\n",
       "      <td>1.304040</td>\n",
       "      <td>0.768</td>\n",
       "      <td>0.848</td>\n",
       "      <td>0.000000</td>\n",
       "    </tr>\n",
       "    <tr>\n",
       "      <th>3</th>\n",
       "      <td>0.200000</td>\n",
       "      <td>0.200000</td>\n",
       "      <td>8.000000</td>\n",
       "      <td>4.466667</td>\n",
       "      <td>1.000000</td>\n",
       "      <td>21.000000</td>\n",
       "      <td>18.666667</td>\n",
       "      <td>25.000000</td>\n",
       "      <td>3.000000</td>\n",
       "      <td>16.000000</td>\n",
       "      <td>0.800000</td>\n",
       "      <td>0.600000</td>\n",
       "      <td>0.270833</td>\n",
       "      <td>0.263</td>\n",
       "      <td>0.232</td>\n",
       "      <td>0.200000</td>\n",
       "    </tr>\n",
       "    <tr>\n",
       "      <th>4</th>\n",
       "      <td>1.000000</td>\n",
       "      <td>0.000000</td>\n",
       "      <td>12.000000</td>\n",
       "      <td>4.000000</td>\n",
       "      <td>1.000000</td>\n",
       "      <td>0.000000</td>\n",
       "      <td>3.333333</td>\n",
       "      <td>0.000000</td>\n",
       "      <td>0.333333</td>\n",
       "      <td>14.000000</td>\n",
       "      <td>2.000000</td>\n",
       "      <td>1.000000</td>\n",
       "      <td>2.000000</td>\n",
       "      <td>0.797</td>\n",
       "      <td>0.766</td>\n",
       "      <td>0.000000</td>\n",
       "    </tr>\n",
       "    <tr>\n",
       "      <th>...</th>\n",
       "      <td>...</td>\n",
       "      <td>...</td>\n",
       "      <td>...</td>\n",
       "      <td>...</td>\n",
       "      <td>...</td>\n",
       "      <td>...</td>\n",
       "      <td>...</td>\n",
       "      <td>...</td>\n",
       "      <td>...</td>\n",
       "      <td>...</td>\n",
       "      <td>...</td>\n",
       "      <td>...</td>\n",
       "      <td>...</td>\n",
       "      <td>...</td>\n",
       "      <td>...</td>\n",
       "      <td>...</td>\n",
       "    </tr>\n",
       "    <tr>\n",
       "      <th>970</th>\n",
       "      <td>0.787356</td>\n",
       "      <td>0.201149</td>\n",
       "      <td>11.336207</td>\n",
       "      <td>8.984674</td>\n",
       "      <td>0.788321</td>\n",
       "      <td>9.583942</td>\n",
       "      <td>11.001217</td>\n",
       "      <td>12.566910</td>\n",
       "      <td>1.945255</td>\n",
       "      <td>4.394161</td>\n",
       "      <td>4.005747</td>\n",
       "      <td>1.752874</td>\n",
       "      <td>1.498816</td>\n",
       "      <td>0.731</td>\n",
       "      <td>0.851</td>\n",
       "      <td>0.103448</td>\n",
       "    </tr>\n",
       "    <tr>\n",
       "      <th>971</th>\n",
       "      <td>0.773481</td>\n",
       "      <td>0.182320</td>\n",
       "      <td>11.314917</td>\n",
       "      <td>8.651934</td>\n",
       "      <td>0.707143</td>\n",
       "      <td>8.707143</td>\n",
       "      <td>9.694048</td>\n",
       "      <td>11.407143</td>\n",
       "      <td>2.165476</td>\n",
       "      <td>4.792857</td>\n",
       "      <td>4.049724</td>\n",
       "      <td>1.635359</td>\n",
       "      <td>1.475944</td>\n",
       "      <td>0.905</td>\n",
       "      <td>0.979</td>\n",
       "      <td>0.116022</td>\n",
       "    </tr>\n",
       "    <tr>\n",
       "      <th>972</th>\n",
       "      <td>0.833333</td>\n",
       "      <td>0.205556</td>\n",
       "      <td>11.170370</td>\n",
       "      <td>8.454630</td>\n",
       "      <td>0.913333</td>\n",
       "      <td>8.153333</td>\n",
       "      <td>10.054444</td>\n",
       "      <td>9.552222</td>\n",
       "      <td>2.618889</td>\n",
       "      <td>5.413333</td>\n",
       "      <td>4.316667</td>\n",
       "      <td>1.961111</td>\n",
       "      <td>1.625651</td>\n",
       "      <td>0.087</td>\n",
       "      <td>0.000</td>\n",
       "      <td>0.088889</td>\n",
       "    </tr>\n",
       "    <tr>\n",
       "      <th>973</th>\n",
       "      <td>0.867816</td>\n",
       "      <td>0.281609</td>\n",
       "      <td>11.494253</td>\n",
       "      <td>9.181992</td>\n",
       "      <td>0.814570</td>\n",
       "      <td>10.192053</td>\n",
       "      <td>12.008830</td>\n",
       "      <td>13.917219</td>\n",
       "      <td>2.222958</td>\n",
       "      <td>5.390728</td>\n",
       "      <td>5.166667</td>\n",
       "      <td>2.425287</td>\n",
       "      <td>1.676644</td>\n",
       "      <td>0.878</td>\n",
       "      <td>0.050</td>\n",
       "      <td>0.235632</td>\n",
       "    </tr>\n",
       "    <tr>\n",
       "      <th>974</th>\n",
       "      <td>0.734300</td>\n",
       "      <td>0.169082</td>\n",
       "      <td>11.086957</td>\n",
       "      <td>7.900161</td>\n",
       "      <td>0.809211</td>\n",
       "      <td>8.440789</td>\n",
       "      <td>10.547149</td>\n",
       "      <td>12.277412</td>\n",
       "      <td>2.433114</td>\n",
       "      <td>4.263158</td>\n",
       "      <td>4.140097</td>\n",
       "      <td>1.801932</td>\n",
       "      <td>1.689767</td>\n",
       "      <td>0.892</td>\n",
       "      <td>0.822</td>\n",
       "      <td>0.260870</td>\n",
       "    </tr>\n",
       "  </tbody>\n",
       "</table>\n",
       "<p>975 rows × 16 columns</p>\n",
       "</div>"
      ],
      "text/plain": [
       "     CNTY_USR_PROP  TOT_ESRD_PREV  TOT_CVRG_MOS_PB_PY  TOT_RXCVRG_MOS_PB_PY  \\\n",
       "0         0.500000       0.500000           12.000000             11.500000   \n",
       "1         1.000000       0.000000           12.000000             12.000000   \n",
       "2         1.000000       0.000000           12.000000             12.000000   \n",
       "3         0.200000       0.200000            8.000000              4.466667   \n",
       "4         1.000000       0.000000           12.000000              4.000000   \n",
       "..             ...            ...                 ...                   ...   \n",
       "970       0.787356       0.201149           11.336207              8.984674   \n",
       "971       0.773481       0.182320           11.314917              8.651934   \n",
       "972       0.833333       0.205556           11.170370              8.454630   \n",
       "973       0.867816       0.281609           11.494253              9.181992   \n",
       "974       0.734300       0.169082           11.086957              7.900161   \n",
       "\n",
       "     TOT_IP_VSTS_PU  TOT_OP_VSTS_PU   CODES_PU   PROCS_PU  PRVDRS_PU  \\\n",
       "0          1.000000       20.000000  20.666667  25.666667   2.000000   \n",
       "1          0.000000       38.000000  28.333333  39.333333   6.000000   \n",
       "2          0.000000       33.000000  32.666667  59.000000   5.333333   \n",
       "3          1.000000       21.000000  18.666667  25.000000   3.000000   \n",
       "4          1.000000        0.000000   3.333333   0.000000   0.333333   \n",
       "..              ...             ...        ...        ...        ...   \n",
       "970        0.788321        9.583942  11.001217  12.566910   1.945255   \n",
       "971        0.707143        8.707143   9.694048  11.407143   2.165476   \n",
       "972        0.913333        8.153333  10.054444   9.552222   2.618889   \n",
       "973        0.814570       10.192053  12.008830  13.917219   2.222958   \n",
       "974        0.809211        8.440789  10.547149  12.277412   2.433114   \n",
       "\n",
       "     TOT_IPDAYS_PU  TOT_CC_PREV  TOT_CC_INCD  TOT_ELIX_PU  HO_PROP_RANK  \\\n",
       "0         8.000000     2.500000     0.500000     0.766667         0.714   \n",
       "1         0.000000     4.000000     1.000000     1.088889         0.102   \n",
       "2         0.000000     8.000000     4.000000     1.304040         0.768   \n",
       "3        16.000000     0.800000     0.600000     0.270833         0.263   \n",
       "4        14.000000     2.000000     1.000000     2.000000         0.797   \n",
       "..             ...          ...          ...          ...           ...   \n",
       "970       4.394161     4.005747     1.752874     1.498816         0.731   \n",
       "971       4.792857     4.049724     1.635359     1.475944         0.905   \n",
       "972       5.413333     4.316667     1.961111     1.625651         0.087   \n",
       "973       5.390728     5.166667     2.425287     1.676644         0.878   \n",
       "974       4.263158     4.140097     1.801932     1.689767         0.892   \n",
       "\n",
       "     HF_PROP_RANK  DIVERSE_PROP  \n",
       "0           0.804      0.000000  \n",
       "1           0.707      1.000000  \n",
       "2           0.848      0.000000  \n",
       "3           0.232      0.200000  \n",
       "4           0.766      0.000000  \n",
       "..            ...           ...  \n",
       "970         0.851      0.103448  \n",
       "971         0.979      0.116022  \n",
       "972         0.000      0.088889  \n",
       "973         0.050      0.235632  \n",
       "974         0.822      0.260870  \n",
       "\n",
       "[975 rows x 16 columns]"
      ]
     },
     "execution_count": 32,
     "metadata": {},
     "output_type": "execute_result"
    }
   ],
   "source": [
    "X = medicare_counties[[\"CNTY_USR_PROP\", \"TOT_ESRD_PREV\", \"TOT_CVRG_MOS_PB_PY\", \"TOT_RXCVRG_MOS_PB_PY\",\n",
    "                        \"TOT_IP_VSTS_PU\", \"TOT_OP_VSTS_PU\", \"CODES_PU\", \"PROCS_PU\", \"PRVDRS_PU\", \n",
    "                        \"TOT_IPDAYS_PU\", \"TOT_CC_PREV\", \"TOT_CC_INCD\", \"TOT_ELIX_PU\", \n",
    "                        \"HO_PROP_RANK\", \"HF_PROP_RANK\", \"DIVERSE_PROP\"]]\n",
    "\n",
    "Y = medicare_counties[[\"TOT_COST_PB\"]]\n",
    "X"
   ]
  },
  {
   "cell_type": "code",
   "execution_count": 33,
   "metadata": {},
   "outputs": [
    {
     "data": {
      "text/html": [
       "<div>\n",
       "<style scoped>\n",
       "    .dataframe tbody tr th:only-of-type {\n",
       "        vertical-align: middle;\n",
       "    }\n",
       "\n",
       "    .dataframe tbody tr th {\n",
       "        vertical-align: top;\n",
       "    }\n",
       "\n",
       "    .dataframe thead th {\n",
       "        text-align: right;\n",
       "    }\n",
       "</style>\n",
       "<table border=\"1\" class=\"dataframe\">\n",
       "  <thead>\n",
       "    <tr style=\"text-align: right;\">\n",
       "      <th></th>\n",
       "      <th>TOT_COST_PB</th>\n",
       "    </tr>\n",
       "  </thead>\n",
       "  <tbody>\n",
       "    <tr>\n",
       "      <th>0</th>\n",
       "      <td>127270.000000</td>\n",
       "    </tr>\n",
       "    <tr>\n",
       "      <th>1</th>\n",
       "      <td>90730.000000</td>\n",
       "    </tr>\n",
       "    <tr>\n",
       "      <th>2</th>\n",
       "      <td>137180.000000</td>\n",
       "    </tr>\n",
       "    <tr>\n",
       "      <th>3</th>\n",
       "      <td>28677.600000</td>\n",
       "    </tr>\n",
       "    <tr>\n",
       "      <th>4</th>\n",
       "      <td>53900.000000</td>\n",
       "    </tr>\n",
       "    <tr>\n",
       "      <th>...</th>\n",
       "      <td>...</td>\n",
       "    </tr>\n",
       "    <tr>\n",
       "      <th>970</th>\n",
       "      <td>65907.068966</td>\n",
       "    </tr>\n",
       "    <tr>\n",
       "      <th>971</th>\n",
       "      <td>61705.049724</td>\n",
       "    </tr>\n",
       "    <tr>\n",
       "      <th>972</th>\n",
       "      <td>67738.400000</td>\n",
       "    </tr>\n",
       "    <tr>\n",
       "      <th>973</th>\n",
       "      <td>86220.344828</td>\n",
       "    </tr>\n",
       "    <tr>\n",
       "      <th>974</th>\n",
       "      <td>68510.212560</td>\n",
       "    </tr>\n",
       "  </tbody>\n",
       "</table>\n",
       "<p>975 rows × 1 columns</p>\n",
       "</div>"
      ],
      "text/plain": [
       "       TOT_COST_PB\n",
       "0    127270.000000\n",
       "1     90730.000000\n",
       "2    137180.000000\n",
       "3     28677.600000\n",
       "4     53900.000000\n",
       "..             ...\n",
       "970   65907.068966\n",
       "971   61705.049724\n",
       "972   67738.400000\n",
       "973   86220.344828\n",
       "974   68510.212560\n",
       "\n",
       "[975 rows x 1 columns]"
      ]
     },
     "execution_count": 33,
     "metadata": {},
     "output_type": "execute_result"
    }
   ],
   "source": [
    "Y"
   ]
  },
  {
   "cell_type": "code",
   "execution_count": 34,
   "metadata": {},
   "outputs": [],
   "source": [
    "X = sm.add_constant(X, prepend=False)"
   ]
  },
  {
   "cell_type": "code",
   "execution_count": 35,
   "metadata": {},
   "outputs": [
    {
     "data": {
      "text/html": [
       "<table class=\"simpletable\">\n",
       "<caption>Generalized Linear Model Regression Results</caption>\n",
       "<tr>\n",
       "  <th>Dep. Variable:</th>      <td>TOT_COST_PB</td>   <th>  No. Observations:  </th>  <td>   975</td> \n",
       "</tr>\n",
       "<tr>\n",
       "  <th>Model:</th>                  <td>GLM</td>       <th>  Df Residuals:      </th>  <td>   958</td> \n",
       "</tr>\n",
       "<tr>\n",
       "  <th>Model Family:</th>          <td>Gamma</td>      <th>  Df Model:          </th>  <td>    16</td> \n",
       "</tr>\n",
       "<tr>\n",
       "  <th>Link Function:</th>          <td>log</td>       <th>  Scale:             </th> <td>0.076754</td>\n",
       "</tr>\n",
       "<tr>\n",
       "  <th>Method:</th>                <td>IRLS</td>       <th>  Log-Likelihood:    </th> <td> -11093.</td>\n",
       "</tr>\n",
       "<tr>\n",
       "  <th>Date:</th>            <td>Sat, 12 Jun 2021</td> <th>  Deviance:          </th> <td>  64.099</td>\n",
       "</tr>\n",
       "<tr>\n",
       "  <th>Time:</th>                <td>16:15:50</td>     <th>  Pearson chi2:      </th>  <td>  73.5</td> \n",
       "</tr>\n",
       "<tr>\n",
       "  <th>No. Iterations:</th>         <td>14</td>        <th>                     </th>     <td> </td>   \n",
       "</tr>\n",
       "<tr>\n",
       "  <th>Covariance Type:</th>     <td>nonrobust</td>    <th>                     </th>     <td> </td>   \n",
       "</tr>\n",
       "</table>\n",
       "<table class=\"simpletable\">\n",
       "<tr>\n",
       "            <td></td>              <th>coef</th>     <th>std err</th>      <th>z</th>      <th>P>|z|</th>  <th>[0.025</th>    <th>0.975]</th>  \n",
       "</tr>\n",
       "<tr>\n",
       "  <th>CNTY_USR_PROP</th>        <td>    0.9000</td> <td>    0.114</td> <td>    7.897</td> <td> 0.000</td> <td>    0.677</td> <td>    1.123</td>\n",
       "</tr>\n",
       "<tr>\n",
       "  <th>TOT_ESRD_PREV</th>        <td>    0.1246</td> <td>    0.086</td> <td>    1.441</td> <td> 0.150</td> <td>   -0.045</td> <td>    0.294</td>\n",
       "</tr>\n",
       "<tr>\n",
       "  <th>TOT_CVRG_MOS_PB_PY</th>   <td>   -0.0195</td> <td>    0.015</td> <td>   -1.294</td> <td> 0.196</td> <td>   -0.049</td> <td>    0.010</td>\n",
       "</tr>\n",
       "<tr>\n",
       "  <th>TOT_RXCVRG_MOS_PB_PY</th> <td>    0.0093</td> <td>    0.007</td> <td>    1.267</td> <td> 0.205</td> <td>   -0.005</td> <td>    0.024</td>\n",
       "</tr>\n",
       "<tr>\n",
       "  <th>TOT_IP_VSTS_PU</th>       <td>    0.1563</td> <td>    0.049</td> <td>    3.204</td> <td> 0.001</td> <td>    0.061</td> <td>    0.252</td>\n",
       "</tr>\n",
       "<tr>\n",
       "  <th>TOT_OP_VSTS_PU</th>       <td>   -0.0354</td> <td>    0.009</td> <td>   -4.035</td> <td> 0.000</td> <td>   -0.053</td> <td>   -0.018</td>\n",
       "</tr>\n",
       "<tr>\n",
       "  <th>CODES_PU</th>             <td>    0.0489</td> <td>    0.012</td> <td>    4.235</td> <td> 0.000</td> <td>    0.026</td> <td>    0.072</td>\n",
       "</tr>\n",
       "<tr>\n",
       "  <th>PROCS_PU</th>             <td>    0.0188</td> <td>    0.004</td> <td>    4.438</td> <td> 0.000</td> <td>    0.011</td> <td>    0.027</td>\n",
       "</tr>\n",
       "<tr>\n",
       "  <th>PRVDRS_PU</th>            <td>   -0.0274</td> <td>    0.015</td> <td>   -1.796</td> <td> 0.073</td> <td>   -0.057</td> <td>    0.003</td>\n",
       "</tr>\n",
       "<tr>\n",
       "  <th>TOT_IPDAYS_PU</th>        <td>    0.0090</td> <td>    0.004</td> <td>    2.304</td> <td> 0.021</td> <td>    0.001</td> <td>    0.017</td>\n",
       "</tr>\n",
       "<tr>\n",
       "  <th>TOT_CC_PREV</th>          <td>    0.0537</td> <td>    0.019</td> <td>    2.816</td> <td> 0.005</td> <td>    0.016</td> <td>    0.091</td>\n",
       "</tr>\n",
       "<tr>\n",
       "  <th>TOT_CC_INCD</th>          <td>    0.0173</td> <td>    0.021</td> <td>    0.833</td> <td> 0.405</td> <td>   -0.023</td> <td>    0.058</td>\n",
       "</tr>\n",
       "<tr>\n",
       "  <th>TOT_ELIX_PU</th>          <td>    0.0329</td> <td>    0.025</td> <td>    1.317</td> <td> 0.188</td> <td>   -0.016</td> <td>    0.082</td>\n",
       "</tr>\n",
       "<tr>\n",
       "  <th>HO_PROP_RANK</th>         <td>    0.0845</td> <td>    0.044</td> <td>    1.915</td> <td> 0.055</td> <td>   -0.002</td> <td>    0.171</td>\n",
       "</tr>\n",
       "<tr>\n",
       "  <th>HF_PROP_RANK</th>         <td>   -0.0056</td> <td>    0.044</td> <td>   -0.127</td> <td> 0.899</td> <td>   -0.092</td> <td>    0.081</td>\n",
       "</tr>\n",
       "<tr>\n",
       "  <th>DIVERSE_PROP</th>         <td>    0.1496</td> <td>    0.065</td> <td>    2.294</td> <td> 0.022</td> <td>    0.022</td> <td>    0.277</td>\n",
       "</tr>\n",
       "<tr>\n",
       "  <th>const</th>                <td>    9.7741</td> <td>    0.144</td> <td>   67.690</td> <td> 0.000</td> <td>    9.491</td> <td>   10.057</td>\n",
       "</tr>\n",
       "</table>"
      ],
      "text/plain": [
       "<class 'statsmodels.iolib.summary.Summary'>\n",
       "\"\"\"\n",
       "                 Generalized Linear Model Regression Results                  \n",
       "==============================================================================\n",
       "Dep. Variable:            TOT_COST_PB   No. Observations:                  975\n",
       "Model:                            GLM   Df Residuals:                      958\n",
       "Model Family:                   Gamma   Df Model:                           16\n",
       "Link Function:                    log   Scale:                        0.076754\n",
       "Method:                          IRLS   Log-Likelihood:                -11093.\n",
       "Date:                Sat, 12 Jun 2021   Deviance:                       64.099\n",
       "Time:                        16:15:50   Pearson chi2:                     73.5\n",
       "No. Iterations:                    14                                         \n",
       "Covariance Type:            nonrobust                                         \n",
       "========================================================================================\n",
       "                           coef    std err          z      P>|z|      [0.025      0.975]\n",
       "----------------------------------------------------------------------------------------\n",
       "CNTY_USR_PROP            0.9000      0.114      7.897      0.000       0.677       1.123\n",
       "TOT_ESRD_PREV            0.1246      0.086      1.441      0.150      -0.045       0.294\n",
       "TOT_CVRG_MOS_PB_PY      -0.0195      0.015     -1.294      0.196      -0.049       0.010\n",
       "TOT_RXCVRG_MOS_PB_PY     0.0093      0.007      1.267      0.205      -0.005       0.024\n",
       "TOT_IP_VSTS_PU           0.1563      0.049      3.204      0.001       0.061       0.252\n",
       "TOT_OP_VSTS_PU          -0.0354      0.009     -4.035      0.000      -0.053      -0.018\n",
       "CODES_PU                 0.0489      0.012      4.235      0.000       0.026       0.072\n",
       "PROCS_PU                 0.0188      0.004      4.438      0.000       0.011       0.027\n",
       "PRVDRS_PU               -0.0274      0.015     -1.796      0.073      -0.057       0.003\n",
       "TOT_IPDAYS_PU            0.0090      0.004      2.304      0.021       0.001       0.017\n",
       "TOT_CC_PREV              0.0537      0.019      2.816      0.005       0.016       0.091\n",
       "TOT_CC_INCD              0.0173      0.021      0.833      0.405      -0.023       0.058\n",
       "TOT_ELIX_PU              0.0329      0.025      1.317      0.188      -0.016       0.082\n",
       "HO_PROP_RANK             0.0845      0.044      1.915      0.055      -0.002       0.171\n",
       "HF_PROP_RANK            -0.0056      0.044     -0.127      0.899      -0.092       0.081\n",
       "DIVERSE_PROP             0.1496      0.065      2.294      0.022       0.022       0.277\n",
       "const                    9.7741      0.144     67.690      0.000       9.491      10.057\n",
       "========================================================================================\n",
       "\"\"\""
      ]
     },
     "execution_count": 35,
     "metadata": {},
     "output_type": "execute_result"
    }
   ],
   "source": [
    "glm_gamma = sm.GLM(Y, X, family=sm.families.Gamma(sm.families.links.log()))\n",
    "glm_results = glm_gamma.fit()\n",
    "glm_results.summary()"
   ]
  },
  {
   "cell_type": "markdown",
   "metadata": {},
   "source": [
    "## Coefficients and p-values\n",
    "\n",
    "### Significant Effects: \n",
    "\n",
    "#### USR_PROP: Has a 90% positive impact on cost (makes sense - no utilization, no cost)\n",
    "#### IP_VSTS_PU: Each additional visit adds 15.6% (steep)\n",
    "#### OP_VSTS_PU: Has a negative impact!  For every additional OP visit, cost decreases by 3.5% (yay for primary care)\n",
    "#### CODES_PU: Each additional code contributes nearly 5% (it adds up)\n",
    "#### PROCS_PU: Each additional procedure contributes 2% (some are minor)\n",
    "#### PRVDRS_PU: Each additional provider decreases cost by almost 3%  (at 90% CI)\n",
    "#### IPDAYS_PU: Each additional IPDAY per user increases cost by almost 1% (wow, when you think about it, that's a lot)\n",
    "#### CC_PREV: Each additional chronic condition contributes 5.3%\n",
    "#### HO_PROP_RANK: Moving towards 1 increases cost by 8.4% (at 90% CI) - this is cost of living longer\n",
    "#### DIVERSE_PROP: The more persons in a county identify as not white, the more cost by 15%\n",
    "\n",
    "Why is the contributor HO_PROP_RANK and not HF_PROP_RANK?  The Health Factors staff answered this in a recent webinar, telling users of the rankings to think of HO_PROP_RANK as \"Today's Health\" of your county, and HF_PROP_RANK as \"Tomorrow's Health\".  They also pointed out that if your county has ok HO rank but poor HF rank and nothing is done, likely future HO ranks will be lower.  I think this makes sense, that there is a relationship between additional years of life and quality years of life, and cost."
   ]
  },
  {
   "cell_type": "code",
   "execution_count": 36,
   "metadata": {},
   "outputs": [
    {
     "data": {
      "text/plain": [
       "CNTY_USR_PROP           0.113971\n",
       "TOT_ESRD_PREV           0.086441\n",
       "TOT_CVRG_MOS_PB_PY      0.015065\n",
       "TOT_RXCVRG_MOS_PB_PY    0.007306\n",
       "TOT_IP_VSTS_PU          0.048786\n",
       "TOT_OP_VSTS_PU          0.008778\n",
       "CODES_PU                0.011555\n",
       "PROCS_PU                0.004241\n",
       "PRVDRS_PU               0.015256\n",
       "TOT_IPDAYS_PU           0.003925\n",
       "TOT_CC_PREV             0.019079\n",
       "TOT_CC_INCD             0.020774\n",
       "TOT_ELIX_PU             0.025008\n",
       "HO_PROP_RANK            0.044104\n",
       "HF_PROP_RANK            0.044194\n",
       "DIVERSE_PROP            0.065229\n",
       "const                   0.144396\n",
       "dtype: float64"
      ]
     },
     "execution_count": 36,
     "metadata": {},
     "output_type": "execute_result"
    }
   ],
   "source": [
    "from statsmodels.genmod.families import family, links\n",
    "\n",
    "glm_results.bse"
   ]
  },
  {
   "cell_type": "code",
   "execution_count": 37,
   "metadata": {},
   "outputs": [
    {
     "data": {
      "text/plain": [
       "0.076754148824584"
      ]
     },
     "execution_count": 37,
     "metadata": {},
     "output_type": "execute_result"
    }
   ],
   "source": [
    "glm_results.scale"
   ]
  },
  {
   "cell_type": "markdown",
   "metadata": {},
   "source": [
    "In a Gamma GLM, the variance is proportional to the square of the mean (the constant of proportionality is the scale parameter). So under this model, the variance is around half of the squared mean. Here is a plot of the variance against the mean."
   ]
  },
  {
   "cell_type": "code",
   "execution_count": 38,
   "metadata": {
    "scrolled": true
   },
   "outputs": [
    {
     "data": {
      "text/plain": [
       "Text(0, 0.5, 'Variance')"
      ]
     },
     "execution_count": 38,
     "metadata": {},
     "output_type": "execute_result"
    },
    {
     "data": {
      "image/png": "[encoded data removed]",
      "text/plain": [
       "<Figure size 432x288 with 1 Axes>"
      ]
     },
     "metadata": {
      "needs_background": "light"
     },
     "output_type": "display_data"
    }
   ],
   "source": [
    "alpha = 1 / glm_results.scale\n",
    "beta = Y * glm_results.scale\n",
    "\n",
    "plt.plot(alpha*beta, alpha*beta**2, '-')\n",
    "plt.xlabel(\"Mean\", size=15)\n",
    "plt.ylabel(\"Variance\", size=15)"
   ]
  },
  {
   "cell_type": "markdown",
   "metadata": {},
   "source": [
    "## Residuals vs. Expected\n",
    "\n",
    "It isn't too bad.  We expect the heteroscedasticity and there are a couple of major outliers as well."
   ]
  },
  {
   "cell_type": "code",
   "execution_count": 39,
   "metadata": {
    "scrolled": true
   },
   "outputs": [
    {
     "data": {
      "text/plain": [
       "Text(0, 0.5, 'Residuals')"
      ]
     },
     "execution_count": 39,
     "metadata": {},
     "output_type": "execute_result"
    },
    {
     "data": {
      "image/png": "[encoded data removed]",
      "text/plain": [
       "<Figure size 432x288 with 1 Axes>"
      ]
     },
     "metadata": {
      "needs_background": "light"
     },
     "output_type": "display_data"
    }
   ],
   "source": [
    "plt.plot(glm_results.fittedvalues, glm_results.resid_response, 'o', alpha=0.6)\n",
    "plt.xlabel(\"Expected Values\", size=15)\n",
    "plt.ylabel(\"Residuals\", size=15)"
   ]
  },
  {
   "cell_type": "markdown",
   "metadata": {},
   "source": [
    "## An OLS aside (taken from a sample notebook on the GLM)\n",
    "\n",
    "We can use a linear model to explore the relationship between conditional mean and conditional variance without fixing the relationship in the model. The plot of residuals on fitted values strongly suggests that the variance increases with the mean."
   ]
  },
  {
   "cell_type": "code",
   "execution_count": 40,
   "metadata": {},
   "outputs": [
    {
     "data": {
      "text/plain": [
       "Text(0, 0.5, 'OLS Residuals')"
      ]
     },
     "execution_count": 40,
     "metadata": {},
     "output_type": "execute_result"
    },
    {
     "data": {
      "image/png": "[encoded data removed]",
      "text/plain": [
       "<Figure size 432x288 with 1 Axes>"
      ]
     },
     "metadata": {
      "needs_background": "light"
     },
     "output_type": "display_data"
    }
   ],
   "source": [
    "OLS_result = sm.OLS(Y, X).fit()\n",
    "\n",
    "plt.plot(OLS_result.fittedvalues, OLS_result.resid, 'o', alpha=0.6)\n",
    "plt.xlabel(\"OLS Expected values\", size=15)\n",
    "plt.ylabel(\"OLS Residuals\", size=15)"
   ]
  },
  {
   "cell_type": "markdown",
   "metadata": {},
   "source": [
    "We can directly estimate the conditional variance by smoothing the squared residuals against the expected mean. The relationship is roughly parabolic, although the vertex of the parabola appears slightly shifted to the right of the origin. The points with negative expected value means can be ignored.\n",
    "\n",
    "## Interesting!"
   ]
  },
  {
   "cell_type": "code",
   "execution_count": 41,
   "metadata": {
    "scrolled": true
   },
   "outputs": [
    {
     "data": {
      "text/plain": [
       "Text(0, 0.5, 'Squared residual')"
      ]
     },
     "execution_count": 41,
     "metadata": {},
     "output_type": "execute_result"
    },
    {
     "data": {
      "image/png": "[encoded data removed]",
      "text/plain": [
       "<Figure size 432x288 with 1 Axes>"
      ]
     },
     "metadata": {
      "needs_background": "light"
     },
     "output_type": "display_data"
    }
   ],
   "source": [
    "from statsmodels.nonparametric.smoothers_lowess import lowess\n",
    "\n",
    "fit = lowess(OLS_result.resid**2, OLS_result.fittedvalues)\n",
    "\n",
    "plt.plot(fit[:, 0], fit[:, 1], '-', lw=4)\n",
    "plt.xlabel(\"Expected value\", size=15)\n",
    "plt.ylabel(\"Squared residual\", size=15)"
   ]
  },
  {
   "cell_type": "markdown",
   "metadata": {},
   "source": [
    "## More Model Review\n"
   ]
  },
  {
   "cell_type": "code",
   "execution_count": 42,
   "metadata": {
    "scrolled": true
   },
   "outputs": [
    {
     "data": {
      "text/html": [
       "<table class=\"simpletable\">\n",
       "<tr>\n",
       "        <td>Model:</td>               <td>GLM</td>            <td>AIC:</td>       <td>22220.2402</td>\n",
       "</tr>\n",
       "<tr>\n",
       "    <td>Link Function:</td>           <td>log</td>            <td>BIC:</td>       <td>-6529.2766</td>\n",
       "</tr>\n",
       "<tr>\n",
       "  <td>Dependent Variable:</td>    <td>TOT_COST_PB</td>   <td>Log-Likelihood:</td>   <td>-11093.</td> \n",
       "</tr>\n",
       "<tr>\n",
       "         <td>Date:</td>        <td>2021-06-12 16:27</td>    <td>LL-Null:</td>       <td>-11565.</td> \n",
       "</tr>\n",
       "<tr>\n",
       "   <td>No. Observations:</td>         <td>975</td>          <td>Deviance:</td>      <td>64.099</td>  \n",
       "</tr>\n",
       "<tr>\n",
       "       <td>Df Model:</td>             <td>16</td>         <td>Pearson chi2:</td>     <td>73.5</td>   \n",
       "</tr>\n",
       "<tr>\n",
       "     <td>Df Residuals:</td>           <td>958</td>           <td>Scale:</td>       <td>0.076754</td> \n",
       "</tr>\n",
       "<tr>\n",
       "        <td>Method:</td>             <td>IRLS</td>              <td></td>              <td></td>     \n",
       "</tr>\n",
       "</table>\n",
       "<table class=\"simpletable\">\n",
       "<tr>\n",
       "            <td></td>            <th>Coef.</th>  <th>Std.Err.</th>    <th>z</th>     <th>P>|z|</th> <th>[0.025</th>  <th>0.975]</th> \n",
       "</tr>\n",
       "<tr>\n",
       "  <th>CNTY_USR_PROP</th>        <td>0.9000</td>   <td>0.1140</td>  <td>7.8968</td>  <td>0.0000</td> <td>0.6766</td>  <td>1.1234</td> \n",
       "</tr>\n",
       "<tr>\n",
       "  <th>TOT_ESRD_PREV</th>        <td>0.1246</td>   <td>0.0864</td>  <td>1.4411</td>  <td>0.1496</td> <td>-0.0448</td> <td>0.2940</td> \n",
       "</tr>\n",
       "<tr>\n",
       "  <th>TOT_CVRG_MOS_PB_PY</th>   <td>-0.0195</td>  <td>0.0151</td>  <td>-1.2944</td> <td>0.1955</td> <td>-0.0490</td> <td>0.0100</td> \n",
       "</tr>\n",
       "<tr>\n",
       "  <th>TOT_RXCVRG_MOS_PB_PY</th> <td>0.0093</td>   <td>0.0073</td>  <td>1.2672</td>  <td>0.2051</td> <td>-0.0051</td> <td>0.0236</td> \n",
       "</tr>\n",
       "<tr>\n",
       "  <th>TOT_IP_VSTS_PU</th>       <td>0.1563</td>   <td>0.0488</td>  <td>3.2039</td>  <td>0.0014</td> <td>0.0607</td>  <td>0.2519</td> \n",
       "</tr>\n",
       "<tr>\n",
       "  <th>TOT_OP_VSTS_PU</th>       <td>-0.0354</td>  <td>0.0088</td>  <td>-4.0353</td> <td>0.0001</td> <td>-0.0526</td> <td>-0.0182</td>\n",
       "</tr>\n",
       "<tr>\n",
       "  <th>CODES_PU</th>             <td>0.0489</td>   <td>0.0116</td>  <td>4.2353</td>  <td>0.0000</td> <td>0.0263</td>  <td>0.0716</td> \n",
       "</tr>\n",
       "<tr>\n",
       "  <th>PROCS_PU</th>             <td>0.0188</td>   <td>0.0042</td>  <td>4.4379</td>  <td>0.0000</td> <td>0.0105</td>  <td>0.0271</td> \n",
       "</tr>\n",
       "<tr>\n",
       "  <th>PRVDRS_PU</th>            <td>-0.0274</td>  <td>0.0153</td>  <td>-1.7956</td> <td>0.0726</td> <td>-0.0573</td> <td>0.0025</td> \n",
       "</tr>\n",
       "<tr>\n",
       "  <th>TOT_IPDAYS_PU</th>        <td>0.0090</td>   <td>0.0039</td>  <td>2.3040</td>  <td>0.0212</td> <td>0.0014</td>  <td>0.0167</td> \n",
       "</tr>\n",
       "<tr>\n",
       "  <th>TOT_CC_PREV</th>          <td>0.0537</td>   <td>0.0191</td>  <td>2.8161</td>  <td>0.0049</td> <td>0.0163</td>  <td>0.0911</td> \n",
       "</tr>\n",
       "<tr>\n",
       "  <th>TOT_CC_INCD</th>          <td>0.0173</td>   <td>0.0208</td>  <td>0.8328</td>  <td>0.4050</td> <td>-0.0234</td> <td>0.0580</td> \n",
       "</tr>\n",
       "<tr>\n",
       "  <th>TOT_ELIX_PU</th>          <td>0.0329</td>   <td>0.0250</td>  <td>1.3175</td>  <td>0.1877</td> <td>-0.0161</td> <td>0.0820</td> \n",
       "</tr>\n",
       "<tr>\n",
       "  <th>HO_PROP_RANK</th>         <td>0.0845</td>   <td>0.0441</td>  <td>1.9152</td>  <td>0.0555</td> <td>-0.0020</td> <td>0.1709</td> \n",
       "</tr>\n",
       "<tr>\n",
       "  <th>HF_PROP_RANK</th>         <td>-0.0056</td>  <td>0.0442</td>  <td>-0.1268</td> <td>0.8991</td> <td>-0.0922</td> <td>0.0810</td> \n",
       "</tr>\n",
       "<tr>\n",
       "  <th>DIVERSE_PROP</th>         <td>0.1496</td>   <td>0.0652</td>  <td>2.2942</td>  <td>0.0218</td> <td>0.0218</td>  <td>0.2775</td> \n",
       "</tr>\n",
       "<tr>\n",
       "  <th>const</th>                <td>9.7741</td>   <td>0.1444</td>  <td>67.6897</td> <td>0.0000</td> <td>9.4911</td>  <td>10.0572</td>\n",
       "</tr>\n",
       "</table>"
      ],
      "text/plain": [
       "<class 'statsmodels.iolib.summary2.Summary'>\n",
       "\"\"\"\n",
       "                 Results: Generalized linear model\n",
       "====================================================================\n",
       "Model:                 GLM               AIC:             22220.2402\n",
       "Link Function:         log               BIC:             -6529.2766\n",
       "Dependent Variable:    TOT_COST_PB       Log-Likelihood:  -11093.   \n",
       "Date:                  2021-06-12 16:27  LL-Null:         -11565.   \n",
       "No. Observations:      975               Deviance:        64.099    \n",
       "Df Model:              16                Pearson chi2:    73.5      \n",
       "Df Residuals:          958               Scale:           0.076754  \n",
       "Method:                IRLS                                         \n",
       "--------------------------------------------------------------------\n",
       "                      Coef.  Std.Err.    z    P>|z|   [0.025  0.975]\n",
       "--------------------------------------------------------------------\n",
       "CNTY_USR_PROP         0.9000   0.1140  7.8968 0.0000  0.6766  1.1234\n",
       "TOT_ESRD_PREV         0.1246   0.0864  1.4411 0.1496 -0.0448  0.2940\n",
       "TOT_CVRG_MOS_PB_PY   -0.0195   0.0151 -1.2944 0.1955 -0.0490  0.0100\n",
       "TOT_RXCVRG_MOS_PB_PY  0.0093   0.0073  1.2672 0.2051 -0.0051  0.0236\n",
       "TOT_IP_VSTS_PU        0.1563   0.0488  3.2039 0.0014  0.0607  0.2519\n",
       "TOT_OP_VSTS_PU       -0.0354   0.0088 -4.0353 0.0001 -0.0526 -0.0182\n",
       "CODES_PU              0.0489   0.0116  4.2353 0.0000  0.0263  0.0716\n",
       "PROCS_PU              0.0188   0.0042  4.4379 0.0000  0.0105  0.0271\n",
       "PRVDRS_PU            -0.0274   0.0153 -1.7956 0.0726 -0.0573  0.0025\n",
       "TOT_IPDAYS_PU         0.0090   0.0039  2.3040 0.0212  0.0014  0.0167\n",
       "TOT_CC_PREV           0.0537   0.0191  2.8161 0.0049  0.0163  0.0911\n",
       "TOT_CC_INCD           0.0173   0.0208  0.8328 0.4050 -0.0234  0.0580\n",
       "TOT_ELIX_PU           0.0329   0.0250  1.3175 0.1877 -0.0161  0.0820\n",
       "HO_PROP_RANK          0.0845   0.0441  1.9152 0.0555 -0.0020  0.1709\n",
       "HF_PROP_RANK         -0.0056   0.0442 -0.1268 0.8991 -0.0922  0.0810\n",
       "DIVERSE_PROP          0.1496   0.0652  2.2942 0.0218  0.0218  0.2775\n",
       "const                 9.7741   0.1444 67.6897 0.0000  9.4911 10.0572\n",
       "====================================================================\n",
       "\n",
       "\"\"\""
      ]
     },
     "execution_count": 42,
     "metadata": {},
     "output_type": "execute_result"
    }
   ],
   "source": [
    "glm_results.summary2()"
   ]
  },
  {
   "cell_type": "markdown",
   "metadata": {},
   "source": [
    "### Pearson Chi-Squared\n",
    "\n",
    "The discrepancy between observed and expected, a measure of \"badness of fit\".  Can vary between 0 (impossible) and infinity."
   ]
  },
  {
   "cell_type": "code",
   "execution_count": 43,
   "metadata": {},
   "outputs": [
    {
     "data": {
      "text/plain": [
       "73.5304745739533"
      ]
     },
     "execution_count": 43,
     "metadata": {},
     "output_type": "execute_result"
    }
   ],
   "source": [
    "glm_results.pearson_chi2"
   ]
  },
  {
   "cell_type": "markdown",
   "metadata": {},
   "source": [
    "## Predictions with Machine Learning\n",
    "\n",
    "Below, I am going to see what kind of predictions I can make using a GLM model with scikit learn."
   ]
  },
  {
   "cell_type": "code",
   "execution_count": 22,
   "metadata": {},
   "outputs": [],
   "source": [
    "from sklearn.linear_model import GammaRegressor\n",
    "from sklearn.model_selection import train_test_split"
   ]
  },
  {
   "cell_type": "code",
   "execution_count": 44,
   "metadata": {},
   "outputs": [
    {
     "data": {
      "text/html": [
       "<div>\n",
       "<style scoped>\n",
       "    .dataframe tbody tr th:only-of-type {\n",
       "        vertical-align: middle;\n",
       "    }\n",
       "\n",
       "    .dataframe tbody tr th {\n",
       "        vertical-align: top;\n",
       "    }\n",
       "\n",
       "    .dataframe thead th {\n",
       "        text-align: right;\n",
       "    }\n",
       "</style>\n",
       "<table border=\"1\" class=\"dataframe\">\n",
       "  <thead>\n",
       "    <tr style=\"text-align: right;\">\n",
       "      <th></th>\n",
       "      <th>CNTY_USR_PROP</th>\n",
       "      <th>TOT_ESRD_PREV</th>\n",
       "      <th>TOT_CVRG_MOS_PB_PY</th>\n",
       "      <th>TOT_RXCVRG_MOS_PB_PY</th>\n",
       "      <th>TOT_IP_VSTS_PU</th>\n",
       "      <th>TOT_OP_VSTS_PU</th>\n",
       "      <th>CODES_PU</th>\n",
       "      <th>PROCS_PU</th>\n",
       "      <th>PRVDRS_PU</th>\n",
       "      <th>TOT_IPDAYS_PU</th>\n",
       "      <th>TOT_CC_PREV</th>\n",
       "      <th>TOT_CC_INCD</th>\n",
       "      <th>TOT_ELIX_PU</th>\n",
       "      <th>HO_PROP_RANK</th>\n",
       "      <th>HF_PROP_RANK</th>\n",
       "      <th>DIVERSE_PROP</th>\n",
       "      <th>TOT_COST_PB</th>\n",
       "    </tr>\n",
       "  </thead>\n",
       "  <tbody>\n",
       "    <tr>\n",
       "      <th>949</th>\n",
       "      <td>0.762590</td>\n",
       "      <td>0.208633</td>\n",
       "      <td>11.031175</td>\n",
       "      <td>8.491607</td>\n",
       "      <td>0.820755</td>\n",
       "      <td>9.141509</td>\n",
       "      <td>10.946541</td>\n",
       "      <td>11.792453</td>\n",
       "      <td>2.738994</td>\n",
       "      <td>5.009434</td>\n",
       "      <td>4.568345</td>\n",
       "      <td>2.107914</td>\n",
       "      <td>1.882513</td>\n",
       "      <td>0.726</td>\n",
       "      <td>0.947</td>\n",
       "      <td>0.107914</td>\n",
       "      <td>73288.316547</td>\n",
       "    </tr>\n",
       "    <tr>\n",
       "      <th>755</th>\n",
       "      <td>0.846154</td>\n",
       "      <td>0.102564</td>\n",
       "      <td>11.256410</td>\n",
       "      <td>8.059829</td>\n",
       "      <td>0.575758</td>\n",
       "      <td>8.363636</td>\n",
       "      <td>9.222222</td>\n",
       "      <td>10.202020</td>\n",
       "      <td>1.171717</td>\n",
       "      <td>2.090909</td>\n",
       "      <td>3.948718</td>\n",
       "      <td>1.538462</td>\n",
       "      <td>1.467968</td>\n",
       "      <td>0.904</td>\n",
       "      <td>0.803</td>\n",
       "      <td>0.282051</td>\n",
       "      <td>68621.794872</td>\n",
       "    </tr>\n",
       "    <tr>\n",
       "      <th>127</th>\n",
       "      <td>0.800000</td>\n",
       "      <td>0.400000</td>\n",
       "      <td>10.400000</td>\n",
       "      <td>7.666667</td>\n",
       "      <td>0.750000</td>\n",
       "      <td>7.250000</td>\n",
       "      <td>10.083333</td>\n",
       "      <td>11.750000</td>\n",
       "      <td>1.083333</td>\n",
       "      <td>4.000000</td>\n",
       "      <td>5.000000</td>\n",
       "      <td>1.400000</td>\n",
       "      <td>1.270833</td>\n",
       "      <td>0.175</td>\n",
       "      <td>0.456</td>\n",
       "      <td>0.000000</td>\n",
       "      <td>78848.400000</td>\n",
       "    </tr>\n",
       "    <tr>\n",
       "      <th>913</th>\n",
       "      <td>0.840909</td>\n",
       "      <td>0.215909</td>\n",
       "      <td>11.674242</td>\n",
       "      <td>9.058712</td>\n",
       "      <td>0.932432</td>\n",
       "      <td>10.932432</td>\n",
       "      <td>13.112613</td>\n",
       "      <td>15.081081</td>\n",
       "      <td>1.481982</td>\n",
       "      <td>4.148649</td>\n",
       "      <td>5.215909</td>\n",
       "      <td>2.488636</td>\n",
       "      <td>1.441203</td>\n",
       "      <td>0.471</td>\n",
       "      <td>0.561</td>\n",
       "      <td>0.204545</td>\n",
       "      <td>91721.522727</td>\n",
       "    </tr>\n",
       "    <tr>\n",
       "      <th>136</th>\n",
       "      <td>0.833333</td>\n",
       "      <td>0.000000</td>\n",
       "      <td>12.000000</td>\n",
       "      <td>9.361111</td>\n",
       "      <td>0.800000</td>\n",
       "      <td>10.200000</td>\n",
       "      <td>10.766667</td>\n",
       "      <td>13.933333</td>\n",
       "      <td>1.833333</td>\n",
       "      <td>4.200000</td>\n",
       "      <td>3.000000</td>\n",
       "      <td>1.166667</td>\n",
       "      <td>1.445324</td>\n",
       "      <td>0.229</td>\n",
       "      <td>0.076</td>\n",
       "      <td>0.166667</td>\n",
       "      <td>47571.000000</td>\n",
       "    </tr>\n",
       "    <tr>\n",
       "      <th>...</th>\n",
       "      <td>...</td>\n",
       "      <td>...</td>\n",
       "      <td>...</td>\n",
       "      <td>...</td>\n",
       "      <td>...</td>\n",
       "      <td>...</td>\n",
       "      <td>...</td>\n",
       "      <td>...</td>\n",
       "      <td>...</td>\n",
       "      <td>...</td>\n",
       "      <td>...</td>\n",
       "      <td>...</td>\n",
       "      <td>...</td>\n",
       "      <td>...</td>\n",
       "      <td>...</td>\n",
       "      <td>...</td>\n",
       "      <td>...</td>\n",
       "    </tr>\n",
       "    <tr>\n",
       "      <th>500</th>\n",
       "      <td>0.625000</td>\n",
       "      <td>0.125000</td>\n",
       "      <td>9.138889</td>\n",
       "      <td>7.458333</td>\n",
       "      <td>1.066667</td>\n",
       "      <td>9.533333</td>\n",
       "      <td>12.533333</td>\n",
       "      <td>12.755556</td>\n",
       "      <td>2.911111</td>\n",
       "      <td>6.133333</td>\n",
       "      <td>3.166667</td>\n",
       "      <td>1.791667</td>\n",
       "      <td>1.187553</td>\n",
       "      <td>0.376</td>\n",
       "      <td>0.294</td>\n",
       "      <td>0.041667</td>\n",
       "      <td>68401.166667</td>\n",
       "    </tr>\n",
       "    <tr>\n",
       "      <th>607</th>\n",
       "      <td>0.703704</td>\n",
       "      <td>0.111111</td>\n",
       "      <td>11.456790</td>\n",
       "      <td>8.061728</td>\n",
       "      <td>0.842105</td>\n",
       "      <td>8.894737</td>\n",
       "      <td>11.070175</td>\n",
       "      <td>12.719298</td>\n",
       "      <td>1.649123</td>\n",
       "      <td>3.263158</td>\n",
       "      <td>3.703704</td>\n",
       "      <td>1.407407</td>\n",
       "      <td>0.953840</td>\n",
       "      <td>0.513</td>\n",
       "      <td>0.872</td>\n",
       "      <td>0.037037</td>\n",
       "      <td>65788.666667</td>\n",
       "    </tr>\n",
       "    <tr>\n",
       "      <th>264</th>\n",
       "      <td>0.444444</td>\n",
       "      <td>0.222222</td>\n",
       "      <td>9.629630</td>\n",
       "      <td>7.148148</td>\n",
       "      <td>2.000000</td>\n",
       "      <td>11.125000</td>\n",
       "      <td>16.875000</td>\n",
       "      <td>13.791667</td>\n",
       "      <td>2.791667</td>\n",
       "      <td>8.750000</td>\n",
       "      <td>3.333333</td>\n",
       "      <td>1.444444</td>\n",
       "      <td>2.521792</td>\n",
       "      <td>0.267</td>\n",
       "      <td>0.267</td>\n",
       "      <td>0.222222</td>\n",
       "      <td>95815.333333</td>\n",
       "    </tr>\n",
       "    <tr>\n",
       "      <th>469</th>\n",
       "      <td>0.700000</td>\n",
       "      <td>0.300000</td>\n",
       "      <td>10.300000</td>\n",
       "      <td>8.316667</td>\n",
       "      <td>1.071429</td>\n",
       "      <td>9.428571</td>\n",
       "      <td>12.809524</td>\n",
       "      <td>12.238095</td>\n",
       "      <td>1.857143</td>\n",
       "      <td>6.857143</td>\n",
       "      <td>4.900000</td>\n",
       "      <td>2.900000</td>\n",
       "      <td>1.885697</td>\n",
       "      <td>0.976</td>\n",
       "      <td>0.918</td>\n",
       "      <td>0.000000</td>\n",
       "      <td>97146.700000</td>\n",
       "    </tr>\n",
       "    <tr>\n",
       "      <th>322</th>\n",
       "      <td>0.750000</td>\n",
       "      <td>0.166667</td>\n",
       "      <td>11.666667</td>\n",
       "      <td>9.750000</td>\n",
       "      <td>1.222222</td>\n",
       "      <td>13.333333</td>\n",
       "      <td>17.222222</td>\n",
       "      <td>18.148148</td>\n",
       "      <td>3.888889</td>\n",
       "      <td>5.888889</td>\n",
       "      <td>4.916667</td>\n",
       "      <td>2.833333</td>\n",
       "      <td>1.636829</td>\n",
       "      <td>0.900</td>\n",
       "      <td>0.249</td>\n",
       "      <td>0.250000</td>\n",
       "      <td>130561.666670</td>\n",
       "    </tr>\n",
       "  </tbody>\n",
       "</table>\n",
       "<p>731 rows × 17 columns</p>\n",
       "</div>"
      ],
      "text/plain": [
       "     CNTY_USR_PROP  TOT_ESRD_PREV  TOT_CVRG_MOS_PB_PY  TOT_RXCVRG_MOS_PB_PY  \\\n",
       "949       0.762590       0.208633           11.031175              8.491607   \n",
       "755       0.846154       0.102564           11.256410              8.059829   \n",
       "127       0.800000       0.400000           10.400000              7.666667   \n",
       "913       0.840909       0.215909           11.674242              9.058712   \n",
       "136       0.833333       0.000000           12.000000              9.361111   \n",
       "..             ...            ...                 ...                   ...   \n",
       "500       0.625000       0.125000            9.138889              7.458333   \n",
       "607       0.703704       0.111111           11.456790              8.061728   \n",
       "264       0.444444       0.222222            9.629630              7.148148   \n",
       "469       0.700000       0.300000           10.300000              8.316667   \n",
       "322       0.750000       0.166667           11.666667              9.750000   \n",
       "\n",
       "     TOT_IP_VSTS_PU  TOT_OP_VSTS_PU   CODES_PU   PROCS_PU  PRVDRS_PU  \\\n",
       "949        0.820755        9.141509  10.946541  11.792453   2.738994   \n",
       "755        0.575758        8.363636   9.222222  10.202020   1.171717   \n",
       "127        0.750000        7.250000  10.083333  11.750000   1.083333   \n",
       "913        0.932432       10.932432  13.112613  15.081081   1.481982   \n",
       "136        0.800000       10.200000  10.766667  13.933333   1.833333   \n",
       "..              ...             ...        ...        ...        ...   \n",
       "500        1.066667        9.533333  12.533333  12.755556   2.911111   \n",
       "607        0.842105        8.894737  11.070175  12.719298   1.649123   \n",
       "264        2.000000       11.125000  16.875000  13.791667   2.791667   \n",
       "469        1.071429        9.428571  12.809524  12.238095   1.857143   \n",
       "322        1.222222       13.333333  17.222222  18.148148   3.888889   \n",
       "\n",
       "     TOT_IPDAYS_PU  TOT_CC_PREV  TOT_CC_INCD  TOT_ELIX_PU  HO_PROP_RANK  \\\n",
       "949       5.009434     4.568345     2.107914     1.882513         0.726   \n",
       "755       2.090909     3.948718     1.538462     1.467968         0.904   \n",
       "127       4.000000     5.000000     1.400000     1.270833         0.175   \n",
       "913       4.148649     5.215909     2.488636     1.441203         0.471   \n",
       "136       4.200000     3.000000     1.166667     1.445324         0.229   \n",
       "..             ...          ...          ...          ...           ...   \n",
       "500       6.133333     3.166667     1.791667     1.187553         0.376   \n",
       "607       3.263158     3.703704     1.407407     0.953840         0.513   \n",
       "264       8.750000     3.333333     1.444444     2.521792         0.267   \n",
       "469       6.857143     4.900000     2.900000     1.885697         0.976   \n",
       "322       5.888889     4.916667     2.833333     1.636829         0.900   \n",
       "\n",
       "     HF_PROP_RANK  DIVERSE_PROP    TOT_COST_PB  \n",
       "949         0.947      0.107914   73288.316547  \n",
       "755         0.803      0.282051   68621.794872  \n",
       "127         0.456      0.000000   78848.400000  \n",
       "913         0.561      0.204545   91721.522727  \n",
       "136         0.076      0.166667   47571.000000  \n",
       "..            ...           ...            ...  \n",
       "500         0.294      0.041667   68401.166667  \n",
       "607         0.872      0.037037   65788.666667  \n",
       "264         0.267      0.222222   95815.333333  \n",
       "469         0.918      0.000000   97146.700000  \n",
       "322         0.249      0.250000  130561.666670  \n",
       "\n",
       "[731 rows x 17 columns]"
      ]
     },
     "execution_count": 44,
     "metadata": {},
     "output_type": "execute_result"
    }
   ],
   "source": [
    "analysis_ds = medicare_counties[[\"CNTY_USR_PROP\", \"TOT_ESRD_PREV\", \"TOT_CVRG_MOS_PB_PY\", \"TOT_RXCVRG_MOS_PB_PY\",\n",
    "                        \"TOT_IP_VSTS_PU\", \"TOT_OP_VSTS_PU\", \"CODES_PU\", \"PROCS_PU\", \"PRVDRS_PU\", \n",
    "                        \"TOT_IPDAYS_PU\", \"TOT_CC_PREV\", \"TOT_CC_INCD\", \"TOT_ELIX_PU\", \n",
    "                        \"HO_PROP_RANK\", \"HF_PROP_RANK\", \"DIVERSE_PROP\", \"TOT_COST_PB\"]]\n",
    "\n",
    "analysis_ds_copy = analysis_ds.copy()\n",
    "\n",
    "train, test = train_test_split(analysis_ds, test_size=0.25, random_state=121)\n",
    "\n",
    "train = pd.DataFrame(train, columns=[\"CNTY_USR_PROP\", \"TOT_ESRD_PREV\", \"TOT_CVRG_MOS_PB_PY\", \"TOT_RXCVRG_MOS_PB_PY\",\n",
    "                        \"TOT_IP_VSTS_PU\", \"TOT_OP_VSTS_PU\", \"CODES_PU\", \"PROCS_PU\", \"PRVDRS_PU\", \n",
    "                        \"TOT_IPDAYS_PU\", \"TOT_CC_PREV\", \"TOT_CC_INCD\", \"TOT_ELIX_PU\", \n",
    "                        \"HO_PROP_RANK\", \"HF_PROP_RANK\", \"DIVERSE_PROP\", \"TOT_COST_PB\"])\n",
    "\n",
    "test = pd.DataFrame(test, columns=[\"CNTY_USR_PROP\", \"TOT_ESRD_PREV\", \"TOT_CVRG_MOS_PB_PY\", \"TOT_RXCVRG_MOS_PB_PY\",\n",
    "                        \"TOT_IP_VSTS_PU\", \"TOT_OP_VSTS_PU\", \"CODES_PU\", \"PROCS_PU\", \"PRVDRS_PU\", \n",
    "                        \"TOT_IPDAYS_PU\", \"TOT_CC_PREV\", \"TOT_CC_INCD\", \"TOT_ELIX_PU\", \n",
    "                        \"HO_PROP_RANK\", \"HF_PROP_RANK\", \"DIVERSE_PROP\", \"TOT_COST_PB\"])\n",
    "\n",
    "train"
   ]
  },
  {
   "cell_type": "code",
   "execution_count": 45,
   "metadata": {},
   "outputs": [
    {
     "data": {
      "text/plain": [
       "GammaRegressor()"
      ]
     },
     "execution_count": 45,
     "metadata": {},
     "output_type": "execute_result"
    }
   ],
   "source": [
    "train_x = train[[\"CNTY_USR_PROP\", \"TOT_ESRD_PREV\", \"TOT_CVRG_MOS_PB_PY\", \"TOT_RXCVRG_MOS_PB_PY\",\n",
    "                        \"TOT_IP_VSTS_PU\", \"TOT_OP_VSTS_PU\", \"CODES_PU\", \"PROCS_PU\", \"PRVDRS_PU\", \n",
    "                        \"TOT_IPDAYS_PU\", \"TOT_CC_PREV\", \"TOT_CC_INCD\", \"TOT_ELIX_PU\", \n",
    "                        \"HO_PROP_RANK\", \"HF_PROP_RANK\", \"DIVERSE_PROP\"]]\n",
    "train_y = train[\"TOT_COST_PB\"]\n",
    "\n",
    "test_x = test[[\"CNTY_USR_PROP\", \"TOT_ESRD_PREV\", \"TOT_CVRG_MOS_PB_PY\", \"TOT_RXCVRG_MOS_PB_PY\",\n",
    "                        \"TOT_IP_VSTS_PU\", \"TOT_OP_VSTS_PU\", \"CODES_PU\", \"PROCS_PU\", \"PRVDRS_PU\", \n",
    "                        \"TOT_IPDAYS_PU\", \"TOT_CC_PREV\", \"TOT_CC_INCD\", \"TOT_ELIX_PU\", \n",
    "                        \"HO_PROP_RANK\", \"HF_PROP_RANK\", \"DIVERSE_PROP\"]]\n",
    "test_y = test[\"TOT_COST_PB\"]\n",
    "\n",
    "s = pre.StandardScaler()\n",
    "train_x = s.fit_transform(train_x)\n",
    "test_x = s.fit_transform(test_x)\n",
    "\n",
    "gr = GammaRegressor()\n",
    "gr.fit(train_x, train_y)"
   ]
  },
  {
   "cell_type": "code",
   "execution_count": 46,
   "metadata": {},
   "outputs": [],
   "source": [
    "predictions = gr.predict(test_x)"
   ]
  },
  {
   "cell_type": "code",
   "execution_count": 48,
   "metadata": {},
   "outputs": [
    {
     "data": {
      "text/plain": [
       "0.4540675645920049"
      ]
     },
     "execution_count": 48,
     "metadata": {},
     "output_type": "execute_result"
    }
   ],
   "source": [
    "gr.score(train_x, train_y)"
   ]
  },
  {
   "cell_type": "code",
   "execution_count": 49,
   "metadata": {},
   "outputs": [
    {
     "name": "stdout",
     "output_type": "stream",
     "text": [
      "Coefficients: [ 0.04328837  0.02752067  0.00858516  0.01205743  0.04061564  0.0082566\n",
      "  0.03755767  0.03330129 -0.00108966  0.03499473  0.04732157  0.02853625\n",
      "  0.02804165  0.00870254 -0.00153259  0.00806449]\n",
      "\n",
      "\n",
      "Mean squared error: 523348375.66\n",
      "Root mean squared error: 22876.81\n"
     ]
    }
   ],
   "source": [
    "from sklearn.metrics import mean_squared_error\n",
    "\n",
    "\n",
    "print('Coefficients:', gr.coef_)\n",
    "print('\\n')\n",
    "\n",
    "print('Mean squared error: %.2f'\n",
    "      % mean_squared_error(test_y, predictions))\n",
    "\n",
    "print('Root mean squared error: %.2f'\n",
    "      % np.sqrt(mean_squared_error(test_y, predictions)))"
   ]
  },
  {
   "cell_type": "markdown",
   "metadata": {},
   "source": [
    "## Holdout Performance\n",
    "\n",
    "The RMSE is 22876.81, but the data set has very little outlier removal.\n"
   ]
  },
  {
   "cell_type": "code",
   "execution_count": 50,
   "metadata": {
    "scrolled": true
   },
   "outputs": [
    {
     "data": {
      "image/png": "[encoded data removed]",
      "text/plain": [
       "<Figure size 432x288 with 1 Axes>"
      ]
     },
     "metadata": {
      "needs_background": "light"
     },
     "output_type": "display_data"
    }
   ],
   "source": [
    "plt.scatter((test_y-predictions),predictions)\n",
    "\n",
    "plt.show()"
   ]
  },
  {
   "cell_type": "code",
   "execution_count": 51,
   "metadata": {},
   "outputs": [
    {
     "data": {
      "text/plain": [
       "0.5179036126153136"
      ]
     },
     "execution_count": 51,
     "metadata": {},
     "output_type": "execute_result"
    }
   ],
   "source": [
    "from sklearn.metrics import explained_variance_score\n",
    "\n",
    "explained_variance_score(test_y, predictions)"
   ]
  },
  {
   "cell_type": "code",
   "execution_count": null,
   "metadata": {},
   "outputs": [],
   "source": []
  }
 ],
 "metadata": {
  "kernelspec": {
   "display_name": "Python 3",
   "language": "python",
   "name": "python3"
  },
  "language_info": {
   "codemirror_mode": {
    "name": "ipython",
    "version": 3
   },
   "file_extension": ".py",
   "mimetype": "text/x-python",
   "name": "python",
   "nbconvert_exporter": "python",
   "pygments_lexer": "ipython3",
   "version": "3.8.8"
  }
 },
 "nbformat": 4,
 "nbformat_minor": 4
}

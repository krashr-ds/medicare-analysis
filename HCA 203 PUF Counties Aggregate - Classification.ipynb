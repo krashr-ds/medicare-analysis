{
 "cells": [
  {
   "cell_type": "markdown",
   "metadata": {},
   "source": [
    "# PUF Counties Aggregate - Classification \n",
    "\n",
    "DeSYNPuf Counties Aggregate with Elixhauser Sums per User & RWJF Factor Rankings Dataset"
   ]
  },
  {
   "cell_type": "code",
   "execution_count": 19,
   "metadata": {},
   "outputs": [],
   "source": [
    "%matplotlib inline\n",
    "import seaborn as sb\n",
    "import numpy as np\n",
    "import pandas as pd\n",
    "import matplotlib.pyplot as plt\n",
    "\n",
    "import sklearn.preprocessing as pre"
   ]
  },
  {
   "cell_type": "markdown",
   "metadata": {},
   "source": [
    "The file contains aggregated Medicare data from 2008-2010 (DeSYNPuf Synthetic Public Use Files), and RWJF County Health Factors and Outcomes Ranking Data from 2010.\n",
    "\n",
    "2694 out of 3012 counties will be analyzed.\n"
   ]
  },
  {
   "cell_type": "code",
   "execution_count": 25,
   "metadata": {
    "scrolled": false
   },
   "outputs": [
    {
     "data": {
      "text/plain": [
       "(2947, 73)"
      ]
     },
     "execution_count": 25,
     "metadata": {},
     "output_type": "execute_result"
    }
   ],
   "source": [
    "medicare_counties = pd.read_csv(\"/home/kylier/python/DS/data/PUF/PUF_RWJF_MERGED1.csv\")\n",
    "medicare_counties.shape\n"
   ]
  },
  {
   "cell_type": "markdown",
   "metadata": {},
   "source": [
    "## Remove a minimal # of outliers."
   ]
  },
  {
   "cell_type": "code",
   "execution_count": 26,
   "metadata": {},
   "outputs": [
    {
     "data": {
      "text/plain": [
       "(2840, 73)"
      ]
     },
     "execution_count": 26,
     "metadata": {},
     "output_type": "execute_result"
    }
   ],
   "source": [
    "medicare_counties = medicare_counties[medicare_counties[\"TOT_COST_PB\"]<200000]\n",
    "medicare_counties = medicare_counties[medicare_counties[\"CNTY_BENE_USRS\"]>0]\n",
    "\n",
    "medicare_counties.shape"
   ]
  },
  {
   "cell_type": "code",
   "execution_count": 27,
   "metadata": {},
   "outputs": [
    {
     "name": "stdout",
     "output_type": "stream",
     "text": [
      "<class 'pandas.core.frame.DataFrame'>\n",
      "Int64Index: 2840 entries, 38 to 2946\n",
      "Data columns (total 73 columns):\n",
      " #   Column                      Non-Null Count  Dtype  \n",
      "---  ------                      --------------  -----  \n",
      " 0   FIPS_STATE_CODE             2840 non-null   int64  \n",
      " 1   FIPS_COUNTY_CODE            2840 non-null   int64  \n",
      " 2   CNTY_BENE_CT                2840 non-null   int64  \n",
      " 3   CNTY_BENE_USRS              2840 non-null   int64  \n",
      " 4   CNTY_MEAN_AGE               2840 non-null   float64\n",
      " 5   CNTY_SEX_PROP               2840 non-null   float64\n",
      " 6   TOT_CNCR_CASES              2840 non-null   int64  \n",
      " 7   TOT_STRKETIA_CASES          2840 non-null   int64  \n",
      " 8   TOT_ESRD_CASES              2840 non-null   int64  \n",
      " 9   CNTY_TOT_VSTS               2840 non-null   int64  \n",
      " 10  CNTY_TOT_IP_VSTS            2840 non-null   int64  \n",
      " 11  CNTY_TOT_OP_VSTS            2840 non-null   int64  \n",
      " 12  CNTY_TOT_CODES              2840 non-null   float64\n",
      " 13  CNTY_TOT_PROCS              2840 non-null   float64\n",
      " 14  CNTY_MEAN_IP_STAY           2840 non-null   float64\n",
      " 15  CBSA                        1071 non-null   float64\n",
      " 16  CNTY_TOT_CCS                2840 non-null   int64  \n",
      " 17  CNTY_MEAN_CCS               2840 non-null   float64\n",
      " 18  CNTY_TOT_NEW_CCS            2840 non-null   int64  \n",
      " 19  CNTY_MEAN_NEW_CCS           2840 non-null   float64\n",
      " 20  CNTY_SUM_ELIX_SCORES        2840 non-null   float64\n",
      " 21  CNTY_TOT_IP_COST            2840 non-null   int64  \n",
      " 22  CNTY_TOT_OP_COST            2840 non-null   int64  \n",
      " 23  CNTY_ALL_COSTS              2840 non-null   int64  \n",
      " 24  CNTY_PERCENT_COSTS          2840 non-null   float64\n",
      " 25  CNTY_USR_PROP               2840 non-null   float64\n",
      " 26  CNTY_IP_PROP                2840 non-null   float64\n",
      " 27  CNTY_AGE_95CIL              2687 non-null   float64\n",
      " 28  CNTY_AGE_95CIU              2687 non-null   float64\n",
      " 29  CNTY_PROP_NH_WHITE          2840 non-null   float64\n",
      " 30  CNTY_PROP_AA_BLACK          2840 non-null   float64\n",
      " 31  CNTY_PROP_OTHER             2840 non-null   float64\n",
      " 32  CNTY_PROP_NW_HISPANIC       2840 non-null   float64\n",
      " 33  TOT_CNCR_PREV               2840 non-null   float64\n",
      " 34  TOT_STRK_PREV               2840 non-null   float64\n",
      " 35  TOT_ESRD_PREV               2840 non-null   float64\n",
      " 36  TOT_CVRG_MOS_PB_PY          2840 non-null   float64\n",
      " 37  TOT_RXCVRG_MOS_PB_PY        2840 non-null   float64\n",
      " 38  TOT_VSTS_PB                 2840 non-null   float64\n",
      " 39  TOT_VSTS_PU                 2840 non-null   float64\n",
      " 40  TOT_IP_VSTS_PU              2840 non-null   float64\n",
      " 41  TOT_OP_VSTS_PU              2840 non-null   float64\n",
      " 42  CODES_PU                    2840 non-null   float64\n",
      " 43  PROCS_PU                    2840 non-null   float64\n",
      " 44  PRVDRS_PU                   2840 non-null   float64\n",
      " 45  TOT_IPDAYS_PU               2840 non-null   float64\n",
      " 46  TOT_CC_PREV                 2840 non-null   float64\n",
      " 47  TOT_CCS_PU                  2840 non-null   object \n",
      " 48  TOT_CC_INCD                 2840 non-null   float64\n",
      " 49  TOT_NEW_CC_PU               2840 non-null   object \n",
      " 50  TOT_ELIX_PU                 2840 non-null   float64\n",
      " 51  TOT_IP_COST_PB              2840 non-null   float64\n",
      " 52  TOT_OP_COST_PB              2840 non-null   float64\n",
      " 53  TOT_COST_PB                 2840 non-null   float64\n",
      " 54  FIPS                        2840 non-null   int64  \n",
      " 55  STATE                       2840 non-null   object \n",
      " 56  COUNTY                      2840 non-null   object \n",
      " 57  NUM_COUNTIES                2840 non-null   int64  \n",
      " 58  HO_RANK                     2840 non-null   int64  \n",
      " 59  HO_PROP_RANK                2840 non-null   float64\n",
      " 60  HO_QUARTILE                 2840 non-null   int64  \n",
      " 61  HF_RANK                     2840 non-null   int64  \n",
      " 62  HF_PROP_RANK                2840 non-null   float64\n",
      " 63  HF_QUARTILE                 2840 non-null   int64  \n",
      " 64  HF_HIGH                     2840 non-null   int64  \n",
      " 65  HIGH_SEV                    2840 non-null   int64  \n",
      " 66  HIGH_PROCS                  2840 non-null   int64  \n",
      " 67  DIVERSE_PROP                2840 non-null   float64\n",
      " 68  TOT_COST_PB Predicted       2840 non-null   float64\n",
      " 69  Lower 95% Mean TOT_COST_PB  2840 non-null   float64\n",
      " 70  Upper 95% Mean TOT_COST_PB  2840 non-null   float64\n",
      " 71  Residuals                   2840 non-null   float64\n",
      " 72  HIGHER_COST                 2840 non-null   float64\n",
      "dtypes: float64(45), int64(24), object(4)\n",
      "memory usage: 1.6+ MB\n"
     ]
    }
   ],
   "source": [
    "medicare_counties.info()"
   ]
  },
  {
   "cell_type": "code",
   "execution_count": 28,
   "metadata": {},
   "outputs": [],
   "source": [
    "medicare_counties[\"SR_TOT_COST_PB\"] = np.sqrt(medicare_counties[\"TOT_COST_PB\"])\n",
    "medicare_counties[\"SR_TOT_IPDAYS\"] = np.sqrt(medicare_counties[\"TOT_IPDAYS_PU\"])"
   ]
  },
  {
   "cell_type": "code",
   "execution_count": 29,
   "metadata": {},
   "outputs": [
    {
     "data": {
      "text/plain": [
       "count    2840.000000\n",
       "mean      211.937052\n",
       "std        83.796688\n",
       "min         3.162278\n",
       "25%       158.568031\n",
       "50%       215.473854\n",
       "75%       264.406390\n",
       "max       445.368013\n",
       "Name: SR_TOT_COST_PB, dtype: float64"
      ]
     },
     "execution_count": 29,
     "metadata": {},
     "output_type": "execute_result"
    }
   ],
   "source": [
    "medicare_counties[\"SR_TOT_COST_PB\"].describe()"
   ]
  },
  {
   "cell_type": "markdown",
   "metadata": {},
   "source": [
    "## Classification\n",
    "\n",
    "In this notebook, I will show how one can use the Random Forest Classifier to try to predict high cost counties.\n",
    "\n",
    "A high cost county will be defined as counties where SR[TOT_COST_PB] > 265 (which is the 75% level). "
   ]
  },
  {
   "cell_type": "code",
   "execution_count": 30,
   "metadata": {},
   "outputs": [],
   "source": [
    "from sklearn.metrics import accuracy_score\n",
    "from sklearn.metrics import precision_score\n",
    "from sklearn.metrics import recall_score\n",
    "from sklearn.metrics import confusion_matrix\n",
    "from sklearn.metrics import roc_auc_score\n",
    "from sklearn.metrics import f1_score\n",
    "\n",
    "from sklearn.model_selection import train_test_split\n",
    "\n",
    "from sklearn.ensemble import RandomForestClassifier"
   ]
  },
  {
   "cell_type": "code",
   "execution_count": 31,
   "metadata": {},
   "outputs": [
    {
     "data": {
      "text/plain": [
       "(2840, 19)"
      ]
     },
     "execution_count": 31,
     "metadata": {},
     "output_type": "execute_result"
    }
   ],
   "source": [
    "# Again, we will begin with Age, Sex and Race indicators in the model.\n",
    "# The classification model will rate the importance of the variables after it uses them to make decisions.\n",
    "\n",
    "medicare_counties.loc[medicare_counties[\"SR_TOT_COST_PB\"]>265, \"B_COST\"] = 1\n",
    "medicare_counties.loc[medicare_counties[\"SR_TOT_COST_PB\"]<=265, \"B_COST\"] = 0\n",
    "\n",
    "\n",
    "df = medicare_counties[[\"CNTY_MEAN_AGE\", \"CNTY_SEX_PROP\", \"CNTY_USR_PROP\", \"SR_TOT_IPDAYS\", \"TOT_ESRD_PREV\", \n",
    "                        \"TOT_STRK_PREV\", \"TOT_CVRG_MOS_PB_PY\", \"TOT_RXCVRG_MOS_PB_PY\",\n",
    "                        \"TOT_IP_VSTS_PU\", \"TOT_OP_VSTS_PU\", \"CODES_PU\", \"PROCS_PU\", \"PRVDRS_PU\", \n",
    "                        \"TOT_CC_PREV\", \"TOT_CC_INCD\", \"TOT_ELIX_PU\", \"HO_PROP_RANK\", \"HF_PROP_RANK\", \"B_COST\"]]\n",
    "\n",
    "df = df.dropna()\n",
    "df.shape"
   ]
  },
  {
   "cell_type": "code",
   "execution_count": 32,
   "metadata": {},
   "outputs": [
    {
     "data": {
      "text/plain": [
       "0.0    2138\n",
       "1.0     702\n",
       "Name: B_COST, dtype: int64"
      ]
     },
     "execution_count": 32,
     "metadata": {},
     "output_type": "execute_result"
    }
   ],
   "source": [
    "df[\"B_COST\"].value_counts()"
   ]
  },
  {
   "cell_type": "code",
   "execution_count": 33,
   "metadata": {},
   "outputs": [
    {
     "data": {
      "text/html": [
       "<div>\n",
       "<style scoped>\n",
       "    .dataframe tbody tr th:only-of-type {\n",
       "        vertical-align: middle;\n",
       "    }\n",
       "\n",
       "    .dataframe tbody tr th {\n",
       "        vertical-align: top;\n",
       "    }\n",
       "\n",
       "    .dataframe thead th {\n",
       "        text-align: right;\n",
       "    }\n",
       "</style>\n",
       "<table border=\"1\" class=\"dataframe\">\n",
       "  <thead>\n",
       "    <tr style=\"text-align: right;\">\n",
       "      <th></th>\n",
       "      <th>CNTY_MEAN_AGE</th>\n",
       "      <th>CNTY_SEX_PROP</th>\n",
       "      <th>CNTY_USR_PROP</th>\n",
       "      <th>SR_TOT_IPDAYS</th>\n",
       "      <th>TOT_ESRD_PREV</th>\n",
       "      <th>TOT_STRK_PREV</th>\n",
       "      <th>TOT_CVRG_MOS_PB_PY</th>\n",
       "      <th>TOT_RXCVRG_MOS_PB_PY</th>\n",
       "      <th>TOT_IP_VSTS_PU</th>\n",
       "      <th>TOT_OP_VSTS_PU</th>\n",
       "      <th>CODES_PU</th>\n",
       "      <th>PROCS_PU</th>\n",
       "      <th>PRVDRS_PU</th>\n",
       "      <th>TOT_CC_PREV</th>\n",
       "      <th>TOT_CC_INCD</th>\n",
       "      <th>TOT_ELIX_PU</th>\n",
       "      <th>HO_PROP_RANK</th>\n",
       "      <th>HF_PROP_RANK</th>\n",
       "    </tr>\n",
       "  </thead>\n",
       "  <tbody>\n",
       "    <tr>\n",
       "      <th>0</th>\n",
       "      <td>-0.729858</td>\n",
       "      <td>-0.262895</td>\n",
       "      <td>0.747347</td>\n",
       "      <td>0.834346</td>\n",
       "      <td>0.165622</td>\n",
       "      <td>-0.039389</td>\n",
       "      <td>0.955315</td>\n",
       "      <td>0.860709</td>\n",
       "      <td>0.715453</td>\n",
       "      <td>-0.259966</td>\n",
       "      <td>0.029110</td>\n",
       "      <td>-0.416061</td>\n",
       "      <td>0.686354</td>\n",
       "      <td>0.456735</td>\n",
       "      <td>0.213309</td>\n",
       "      <td>0.012173</td>\n",
       "      <td>1.371045</td>\n",
       "      <td>0.544515</td>\n",
       "    </tr>\n",
       "    <tr>\n",
       "      <th>1</th>\n",
       "      <td>-1.129097</td>\n",
       "      <td>-0.011970</td>\n",
       "      <td>0.181928</td>\n",
       "      <td>0.509831</td>\n",
       "      <td>-0.484579</td>\n",
       "      <td>0.060394</td>\n",
       "      <td>-1.303923</td>\n",
       "      <td>-0.524658</td>\n",
       "      <td>-0.036027</td>\n",
       "      <td>-0.494207</td>\n",
       "      <td>-0.050537</td>\n",
       "      <td>0.018642</td>\n",
       "      <td>0.885336</td>\n",
       "      <td>0.174381</td>\n",
       "      <td>0.004361</td>\n",
       "      <td>0.267322</td>\n",
       "      <td>-1.253922</td>\n",
       "      <td>-1.426189</td>\n",
       "    </tr>\n",
       "    <tr>\n",
       "      <th>2</th>\n",
       "      <td>-0.615790</td>\n",
       "      <td>0.301686</td>\n",
       "      <td>0.959379</td>\n",
       "      <td>0.712985</td>\n",
       "      <td>3.091529</td>\n",
       "      <td>0.858659</td>\n",
       "      <td>-0.328884</td>\n",
       "      <td>1.281978</td>\n",
       "      <td>-0.146414</td>\n",
       "      <td>-0.763829</td>\n",
       "      <td>-0.653956</td>\n",
       "      <td>-1.077540</td>\n",
       "      <td>-0.710588</td>\n",
       "      <td>0.648007</td>\n",
       "      <td>0.437182</td>\n",
       "      <td>0.093614</td>\n",
       "      <td>-0.009056</td>\n",
       "      <td>1.204892</td>\n",
       "    </tr>\n",
       "    <tr>\n",
       "      <th>3</th>\n",
       "      <td>-0.558756</td>\n",
       "      <td>-0.827475</td>\n",
       "      <td>0.535315</td>\n",
       "      <td>-0.648065</td>\n",
       "      <td>0.165622</td>\n",
       "      <td>-0.338738</td>\n",
       "      <td>0.646156</td>\n",
       "      <td>0.275963</td>\n",
       "      <td>-0.857306</td>\n",
       "      <td>0.737170</td>\n",
       "      <td>0.229229</td>\n",
       "      <td>0.936890</td>\n",
       "      <td>-0.721177</td>\n",
       "      <td>0.620682</td>\n",
       "      <td>-0.010564</td>\n",
       "      <td>-0.498849</td>\n",
       "      <td>-1.319806</td>\n",
       "      <td>-1.457470</td>\n",
       "    </tr>\n",
       "    <tr>\n",
       "      <th>4</th>\n",
       "      <td>-6.585360</td>\n",
       "      <td>0.301686</td>\n",
       "      <td>-1.585008</td>\n",
       "      <td>-2.200046</td>\n",
       "      <td>-1.297331</td>\n",
       "      <td>-0.937437</td>\n",
       "      <td>0.955315</td>\n",
       "      <td>-3.584621</td>\n",
       "      <td>-1.691831</td>\n",
       "      <td>0.790460</td>\n",
       "      <td>-0.557957</td>\n",
       "      <td>-0.624332</td>\n",
       "      <td>1.089553</td>\n",
       "      <td>-0.007783</td>\n",
       "      <td>-2.383619</td>\n",
       "      <td>-1.636429</td>\n",
       "      <td>-1.520927</td>\n",
       "      <td>-1.582594</td>\n",
       "    </tr>\n",
       "    <tr>\n",
       "      <th>...</th>\n",
       "      <td>...</td>\n",
       "      <td>...</td>\n",
       "      <td>...</td>\n",
       "      <td>...</td>\n",
       "      <td>...</td>\n",
       "      <td>...</td>\n",
       "      <td>...</td>\n",
       "      <td>...</td>\n",
       "      <td>...</td>\n",
       "      <td>...</td>\n",
       "      <td>...</td>\n",
       "      <td>...</td>\n",
       "      <td>...</td>\n",
       "      <td>...</td>\n",
       "      <td>...</td>\n",
       "      <td>...</td>\n",
       "      <td>...</td>\n",
       "      <td>...</td>\n",
       "    </tr>\n",
       "    <tr>\n",
       "      <th>2125</th>\n",
       "      <td>-0.596779</td>\n",
       "      <td>-1.109765</td>\n",
       "      <td>0.005234</td>\n",
       "      <td>-0.800672</td>\n",
       "      <td>-1.297331</td>\n",
       "      <td>1.307683</td>\n",
       "      <td>0.955315</td>\n",
       "      <td>0.376565</td>\n",
       "      <td>-0.919122</td>\n",
       "      <td>-2.318118</td>\n",
       "      <td>-1.997932</td>\n",
       "      <td>-1.866746</td>\n",
       "      <td>-2.087166</td>\n",
       "      <td>-0.212718</td>\n",
       "      <td>-0.704571</td>\n",
       "      <td>-1.408211</td>\n",
       "      <td>-1.461978</td>\n",
       "      <td>-0.706726</td>\n",
       "    </tr>\n",
       "    <tr>\n",
       "      <th>2126</th>\n",
       "      <td>-0.900960</td>\n",
       "      <td>0.301686</td>\n",
       "      <td>-0.428468</td>\n",
       "      <td>1.891779</td>\n",
       "      <td>0.365116</td>\n",
       "      <td>0.695378</td>\n",
       "      <td>-0.406714</td>\n",
       "      <td>0.736672</td>\n",
       "      <td>0.317211</td>\n",
       "      <td>-0.275338</td>\n",
       "      <td>-0.026766</td>\n",
       "      <td>0.055479</td>\n",
       "      <td>0.327141</td>\n",
       "      <td>0.215782</td>\n",
       "      <td>-0.124536</td>\n",
       "      <td>0.333978</td>\n",
       "      <td>-1.063204</td>\n",
       "      <td>-0.546845</td>\n",
       "    </tr>\n",
       "    <tr>\n",
       "      <th>2127</th>\n",
       "      <td>-0.368642</td>\n",
       "      <td>0.301686</td>\n",
       "      <td>-0.748039</td>\n",
       "      <td>0.080655</td>\n",
       "      <td>-0.527356</td>\n",
       "      <td>-0.228452</td>\n",
       "      <td>-0.781357</td>\n",
       "      <td>-0.407730</td>\n",
       "      <td>-0.339591</td>\n",
       "      <td>0.110459</td>\n",
       "      <td>-0.161964</td>\n",
       "      <td>-0.061730</td>\n",
       "      <td>1.049844</td>\n",
       "      <td>-0.805949</td>\n",
       "      <td>-0.262716</td>\n",
       "      <td>0.130254</td>\n",
       "      <td>0.365444</td>\n",
       "      <td>0.662687</td>\n",
       "    </tr>\n",
       "    <tr>\n",
       "      <th>2128</th>\n",
       "      <td>0.201699</td>\n",
       "      <td>0.084539</td>\n",
       "      <td>1.595476</td>\n",
       "      <td>-0.074243</td>\n",
       "      <td>0.390692</td>\n",
       "      <td>0.444176</td>\n",
       "      <td>0.927874</td>\n",
       "      <td>0.420094</td>\n",
       "      <td>-0.443610</td>\n",
       "      <td>-0.593028</td>\n",
       "      <td>-0.661340</td>\n",
       "      <td>-0.645971</td>\n",
       "      <td>-0.120044</td>\n",
       "      <td>0.685841</td>\n",
       "      <td>0.199532</td>\n",
       "      <td>-0.491477</td>\n",
       "      <td>-0.969579</td>\n",
       "      <td>-1.255881</td>\n",
       "    </tr>\n",
       "    <tr>\n",
       "      <th>2129</th>\n",
       "      <td>1.646563</td>\n",
       "      <td>-2.521217</td>\n",
       "      <td>1.595476</td>\n",
       "      <td>0.120554</td>\n",
       "      <td>1.140925</td>\n",
       "      <td>2.056057</td>\n",
       "      <td>0.955315</td>\n",
       "      <td>-0.189319</td>\n",
       "      <td>-0.919122</td>\n",
       "      <td>0.679440</td>\n",
       "      <td>-0.333961</td>\n",
       "      <td>-0.296147</td>\n",
       "      <td>-0.657643</td>\n",
       "      <td>1.085201</td>\n",
       "      <td>-2.383619</td>\n",
       "      <td>-1.056377</td>\n",
       "      <td>1.024286</td>\n",
       "      <td>0.294267</td>\n",
       "    </tr>\n",
       "  </tbody>\n",
       "</table>\n",
       "<p>2130 rows × 18 columns</p>\n",
       "</div>"
      ],
      "text/plain": [
       "      CNTY_MEAN_AGE  CNTY_SEX_PROP  CNTY_USR_PROP  SR_TOT_IPDAYS  \\\n",
       "0         -0.729858      -0.262895       0.747347       0.834346   \n",
       "1         -1.129097      -0.011970       0.181928       0.509831   \n",
       "2         -0.615790       0.301686       0.959379       0.712985   \n",
       "3         -0.558756      -0.827475       0.535315      -0.648065   \n",
       "4         -6.585360       0.301686      -1.585008      -2.200046   \n",
       "...             ...            ...            ...            ...   \n",
       "2125      -0.596779      -1.109765       0.005234      -0.800672   \n",
       "2126      -0.900960       0.301686      -0.428468       1.891779   \n",
       "2127      -0.368642       0.301686      -0.748039       0.080655   \n",
       "2128       0.201699       0.084539       1.595476      -0.074243   \n",
       "2129       1.646563      -2.521217       1.595476       0.120554   \n",
       "\n",
       "      TOT_ESRD_PREV  TOT_STRK_PREV  TOT_CVRG_MOS_PB_PY  TOT_RXCVRG_MOS_PB_PY  \\\n",
       "0          0.165622      -0.039389            0.955315              0.860709   \n",
       "1         -0.484579       0.060394           -1.303923             -0.524658   \n",
       "2          3.091529       0.858659           -0.328884              1.281978   \n",
       "3          0.165622      -0.338738            0.646156              0.275963   \n",
       "4         -1.297331      -0.937437            0.955315             -3.584621   \n",
       "...             ...            ...                 ...                   ...   \n",
       "2125      -1.297331       1.307683            0.955315              0.376565   \n",
       "2126       0.365116       0.695378           -0.406714              0.736672   \n",
       "2127      -0.527356      -0.228452           -0.781357             -0.407730   \n",
       "2128       0.390692       0.444176            0.927874              0.420094   \n",
       "2129       1.140925       2.056057            0.955315             -0.189319   \n",
       "\n",
       "      TOT_IP_VSTS_PU  TOT_OP_VSTS_PU  CODES_PU  PROCS_PU  PRVDRS_PU  \\\n",
       "0           0.715453       -0.259966  0.029110 -0.416061   0.686354   \n",
       "1          -0.036027       -0.494207 -0.050537  0.018642   0.885336   \n",
       "2          -0.146414       -0.763829 -0.653956 -1.077540  -0.710588   \n",
       "3          -0.857306        0.737170  0.229229  0.936890  -0.721177   \n",
       "4          -1.691831        0.790460 -0.557957 -0.624332   1.089553   \n",
       "...              ...             ...       ...       ...        ...   \n",
       "2125       -0.919122       -2.318118 -1.997932 -1.866746  -2.087166   \n",
       "2126        0.317211       -0.275338 -0.026766  0.055479   0.327141   \n",
       "2127       -0.339591        0.110459 -0.161964 -0.061730   1.049844   \n",
       "2128       -0.443610       -0.593028 -0.661340 -0.645971  -0.120044   \n",
       "2129       -0.919122        0.679440 -0.333961 -0.296147  -0.657643   \n",
       "\n",
       "      TOT_CC_PREV  TOT_CC_INCD  TOT_ELIX_PU  HO_PROP_RANK  HF_PROP_RANK  \n",
       "0        0.456735     0.213309     0.012173      1.371045      0.544515  \n",
       "1        0.174381     0.004361     0.267322     -1.253922     -1.426189  \n",
       "2        0.648007     0.437182     0.093614     -0.009056      1.204892  \n",
       "3        0.620682    -0.010564    -0.498849     -1.319806     -1.457470  \n",
       "4       -0.007783    -2.383619    -1.636429     -1.520927     -1.582594  \n",
       "...           ...          ...          ...           ...           ...  \n",
       "2125    -0.212718    -0.704571    -1.408211     -1.461978     -0.706726  \n",
       "2126     0.215782    -0.124536     0.333978     -1.063204     -0.546845  \n",
       "2127    -0.805949    -0.262716     0.130254      0.365444      0.662687  \n",
       "2128     0.685841     0.199532    -0.491477     -0.969579     -1.255881  \n",
       "2129     1.085201    -2.383619    -1.056377      1.024286      0.294267  \n",
       "\n",
       "[2130 rows x 18 columns]"
      ]
     },
     "execution_count": 33,
     "metadata": {},
     "output_type": "execute_result"
    }
   ],
   "source": [
    "train, test = train_test_split(df, test_size=0.25, random_state=121)\n",
    "\n",
    "train_x = train[[\"CNTY_MEAN_AGE\", \"CNTY_SEX_PROP\", \"CNTY_USR_PROP\", \"SR_TOT_IPDAYS\", \"TOT_ESRD_PREV\", \n",
    "                        \"TOT_STRK_PREV\", \"TOT_CVRG_MOS_PB_PY\", \"TOT_RXCVRG_MOS_PB_PY\",\n",
    "                        \"TOT_IP_VSTS_PU\", \"TOT_OP_VSTS_PU\", \"CODES_PU\", \"PROCS_PU\", \"PRVDRS_PU\", \n",
    "                        \"TOT_CC_PREV\", \"TOT_CC_INCD\", \"TOT_ELIX_PU\", \"HO_PROP_RANK\", \"HF_PROP_RANK\"]]\n",
    "train_y = train[\"B_COST\"]\n",
    "\n",
    "test_x = test[[\"CNTY_MEAN_AGE\", \"CNTY_SEX_PROP\", \"CNTY_USR_PROP\", \"SR_TOT_IPDAYS\", \"TOT_ESRD_PREV\", \n",
    "                        \"TOT_STRK_PREV\", \"TOT_CVRG_MOS_PB_PY\", \"TOT_RXCVRG_MOS_PB_PY\",\n",
    "                        \"TOT_IP_VSTS_PU\", \"TOT_OP_VSTS_PU\", \"CODES_PU\", \"PROCS_PU\", \"PRVDRS_PU\", \n",
    "                        \"TOT_CC_PREV\", \"TOT_CC_INCD\", \"TOT_ELIX_PU\", \"HO_PROP_RANK\", \"HF_PROP_RANK\"]]\n",
    "test_y = test[\"B_COST\"]\n",
    "\n",
    "s = pre.StandardScaler()\n",
    "train_x = s.fit_transform(train_x)\n",
    "test_x = s.fit_transform(test_x)\n",
    "\n",
    "train_x = pd.DataFrame(train_x, columns=[\"CNTY_MEAN_AGE\", \"CNTY_SEX_PROP\", \"CNTY_USR_PROP\", \"SR_TOT_IPDAYS\", \"TOT_ESRD_PREV\", \n",
    "                        \"TOT_STRK_PREV\", \"TOT_CVRG_MOS_PB_PY\", \"TOT_RXCVRG_MOS_PB_PY\",\n",
    "                        \"TOT_IP_VSTS_PU\", \"TOT_OP_VSTS_PU\", \"CODES_PU\", \"PROCS_PU\", \"PRVDRS_PU\", \n",
    "                        \"TOT_CC_PREV\", \"TOT_CC_INCD\", \"TOT_ELIX_PU\", \"HO_PROP_RANK\", \"HF_PROP_RANK\"])\n",
    "\n",
    "test_x = pd.DataFrame(test_x, columns=[\"CNTY_MEAN_AGE\", \"CNTY_SEX_PROP\", \"CNTY_USR_PROP\", \"SR_TOT_IPDAYS\", \"TOT_ESRD_PREV\", \n",
    "                        \"TOT_STRK_PREV\", \"TOT_CVRG_MOS_PB_PY\", \"TOT_RXCVRG_MOS_PB_PY\",\n",
    "                        \"TOT_IP_VSTS_PU\", \"TOT_OP_VSTS_PU\", \"CODES_PU\", \"PROCS_PU\", \"PRVDRS_PU\", \n",
    "                        \"TOT_CC_PREV\", \"TOT_CC_INCD\", \"TOT_ELIX_PU\", \"HO_PROP_RANK\", \"HF_PROP_RANK\"])\n",
    "\n",
    "\n",
    "\n",
    "train_x"
   ]
  },
  {
   "cell_type": "code",
   "execution_count": 34,
   "metadata": {},
   "outputs": [],
   "source": [
    "#The default criterion is \"gini\". We can also run with criterion \"entropy\" for information gain,\n",
    "#rather than impurity\n",
    "clf = RandomForestClassifier(min_samples_leaf=10, random_state=121)\n",
    "clf.fit(train_x, train_y)\n",
    "\n",
    "# predict on test data\n",
    "prediction = clf.predict(test_x)\n",
    "\n",
    "# compute evaluation scores\n",
    "accuracy = accuracy_score(test_y, prediction)\n",
    "precision = precision_score(test_y, prediction)\n",
    "recall = recall_score(test_y, prediction)\n",
    "cm = confusion_matrix(test_y, prediction)\n",
    "roc = roc_auc_score(test_y, prediction)\n",
    "f1 = f1_score(test_y, prediction)"
   ]
  },
  {
   "cell_type": "code",
   "execution_count": 35,
   "metadata": {},
   "outputs": [
    {
     "data": {
      "text/plain": [
       "0.8507042253521127"
      ]
     },
     "execution_count": 35,
     "metadata": {},
     "output_type": "execute_result"
    }
   ],
   "source": [
    "accuracy"
   ]
  },
  {
   "cell_type": "code",
   "execution_count": 36,
   "metadata": {},
   "outputs": [
    {
     "data": {
      "text/plain": [
       "0.7851851851851852"
      ]
     },
     "execution_count": 36,
     "metadata": {},
     "output_type": "execute_result"
    }
   ],
   "source": [
    "precision"
   ]
  },
  {
   "cell_type": "code",
   "execution_count": 37,
   "metadata": {},
   "outputs": [
    {
     "data": {
      "text/plain": [
       "0.5792349726775956"
      ]
     },
     "execution_count": 37,
     "metadata": {},
     "output_type": "execute_result"
    }
   ],
   "source": [
    "recall"
   ]
  },
  {
   "cell_type": "code",
   "execution_count": 38,
   "metadata": {},
   "outputs": [
    {
     "data": {
      "text/plain": [
       "0.6666666666666666"
      ]
     },
     "execution_count": 38,
     "metadata": {},
     "output_type": "execute_result"
    }
   ],
   "source": [
    "f1"
   ]
  },
  {
   "cell_type": "markdown",
   "metadata": {},
   "source": [
    "## Scores\n",
    "\n",
    "These are great scores for a simple Random Forest Classifier without any boosting.\n",
    "\n",
    "The meaning of all these scores is worth reading up on.  \n",
    "\n",
    "Now let's look at the Feature Importances of each of the variables in the model."
   ]
  },
  {
   "cell_type": "code",
   "execution_count": 39,
   "metadata": {},
   "outputs": [
    {
     "data": {
      "text/plain": [
       "<AxesSubplot:>"
      ]
     },
     "execution_count": 39,
     "metadata": {},
     "output_type": "execute_result"
    },
    {
     "data": {
      "image/png": "[encoded data removed]",
      "text/plain": [
       "<Figure size 432x288 with 1 Axes>"
      ]
     },
     "metadata": {
      "needs_background": "light"
     },
     "output_type": "display_data"
    }
   ],
   "source": [
    "feat_importances = pd.Series(clf.feature_importances_, index=train_x.columns)\n",
    "feat_importances.nlargest(13).plot(kind='barh')"
   ]
  },
  {
   "cell_type": "markdown",
   "metadata": {},
   "source": [
    "## Feature Importances\n",
    "\n",
    "CODES_PU was the most useful variable to the decision tree, in classifying counties into high cost or low cost!"
   ]
  },
  {
   "cell_type": "code",
   "execution_count": 40,
   "metadata": {},
   "outputs": [
    {
     "data": {
      "image/png": "[encoded data removed]",
      "text/plain": [
       "<Figure size 432x288 with 1 Axes>"
      ]
     },
     "metadata": {
      "needs_background": "light"
     },
     "output_type": "display_data"
    }
   ],
   "source": [
    "from sklearn.metrics import plot_roc_curve\n",
    "\n",
    "clf_disp = plot_roc_curve(clf, test_x, test_y)\n",
    "plt.show()"
   ]
  },
  {
   "cell_type": "markdown",
   "metadata": {},
   "source": [
    "## AUC\n",
    "\n",
    "AUC for the holdout (test) data is 0.90!"
   ]
  },
  {
   "cell_type": "code",
   "execution_count": 41,
   "metadata": {},
   "outputs": [
    {
     "data": {
      "image/png": "[encoded data removed]",
      "text/plain": [
       "<Figure size 432x288 with 2 Axes>"
      ]
     },
     "metadata": {
      "needs_background": "light"
     },
     "output_type": "display_data"
    }
   ],
   "source": [
    "sb.heatmap(cm)\n",
    "plt.show()"
   ]
  },
  {
   "cell_type": "code",
   "execution_count": 42,
   "metadata": {},
   "outputs": [
    {
     "data": {
      "text/plain": [
       "array([[498,  29],\n",
       "       [ 77, 106]])"
      ]
     },
     "execution_count": 42,
     "metadata": {},
     "output_type": "execute_result"
    }
   ],
   "source": [
    "cm"
   ]
  },
  {
   "cell_type": "markdown",
   "metadata": {},
   "source": [
    "## Confusion Matrix\n",
    "\n",
    "The confusion matrix shows the actual positives and negatives of the target classification (in this case, HIGH_COST) on the left column, plotted against the predicted positives and negatives going across the rows.\n",
    "\n",
    "Above, the first cell contains TRUE NEGATIVES (times the true value was negative, and the classifier predicted negative).  The classifier correctly predicted 498 out of 527 negative cases.\n",
    "\n",
    "The second cell contains the FALSE NEGATIVES (times the true value was negative, and the classifier predicted positive).  The classifier incorrectly classified 29 positive cases as positive.\n",
    "\n",
    "The second row, first cell contains the FALSE NEGATIVES (times the true value was positive, and the classifier predicted negative).  The classifier incorrectly classified 77 positive cases as negative.\n",
    "\n",
    "The second row, second cell contains the TRUE POSITIVES (times the true value was positive, and the classifier predicted positive high cost).  The classifier correctly predicted 106 out of 183 positive cases.\n",
    "\n",
    "Performance could be improved if we moved to a boosted classifer.\n",
    "\n",
    "The confusion matrix values can be used to calculate a wide variety of other important model metrics:\n",
    "\n",
    "https://en.wikipedia.org/wiki/Confusion_matrix"
   ]
  },
  {
   "cell_type": "markdown",
   "metadata": {},
   "source": [
    "## Now...\n",
    "\n",
    "Let's try the whole model using \"entropy\" criterion instead of \"gini\" - just for comparison!"
   ]
  },
  {
   "cell_type": "code",
   "execution_count": 43,
   "metadata": {},
   "outputs": [],
   "source": [
    "clf2 = RandomForestClassifier(criterion=\"entropy\", min_samples_leaf=10, random_state=121)\n",
    "clf2.fit(train_x, train_y)\n",
    "\n",
    "# predict on test data\n",
    "prediction2 = clf2.predict(test_x)\n",
    "\n",
    "# compute evaluation scores\n",
    "accuracy2 = accuracy_score(test_y, prediction2)\n",
    "precision2 = precision_score(test_y, prediction2)\n",
    "recall2 = recall_score(test_y, prediction2)\n",
    "cm2 = confusion_matrix(test_y, prediction2)\n",
    "roc2 = roc_auc_score(test_y, prediction2)\n",
    "f12 = f1_score(test_y, prediction2)"
   ]
  },
  {
   "cell_type": "code",
   "execution_count": 44,
   "metadata": {},
   "outputs": [
    {
     "data": {
      "text/plain": [
       "0.8492957746478873"
      ]
     },
     "execution_count": 44,
     "metadata": {},
     "output_type": "execute_result"
    }
   ],
   "source": [
    "accuracy2"
   ]
  },
  {
   "cell_type": "code",
   "execution_count": 45,
   "metadata": {},
   "outputs": [
    {
     "data": {
      "text/plain": [
       "0.7753623188405797"
      ]
     },
     "execution_count": 45,
     "metadata": {},
     "output_type": "execute_result"
    }
   ],
   "source": [
    "precision2"
   ]
  },
  {
   "cell_type": "code",
   "execution_count": 46,
   "metadata": {},
   "outputs": [
    {
     "data": {
      "text/plain": [
       "0.5846994535519126"
      ]
     },
     "execution_count": 46,
     "metadata": {},
     "output_type": "execute_result"
    }
   ],
   "source": [
    "recall2"
   ]
  },
  {
   "cell_type": "code",
   "execution_count": 47,
   "metadata": {},
   "outputs": [
    {
     "data": {
      "text/plain": [
       "0.6666666666666667"
      ]
     },
     "execution_count": 47,
     "metadata": {},
     "output_type": "execute_result"
    }
   ],
   "source": [
    "f12"
   ]
  },
  {
   "cell_type": "code",
   "execution_count": 48,
   "metadata": {},
   "outputs": [
    {
     "data": {
      "text/plain": [
       "<AxesSubplot:>"
      ]
     },
     "execution_count": 48,
     "metadata": {},
     "output_type": "execute_result"
    },
    {
     "data": {
      "image/png": "[encoded data removed]",
      "text/plain": [
       "<Figure size 432x288 with 1 Axes>"
      ]
     },
     "metadata": {
      "needs_background": "light"
     },
     "output_type": "display_data"
    }
   ],
   "source": [
    "feat_importances2 = pd.Series(clf2.feature_importances_, index=train_x.columns)\n",
    "feat_importances2.nlargest(13).plot(kind='barh')"
   ]
  },
  {
   "cell_type": "code",
   "execution_count": 49,
   "metadata": {},
   "outputs": [
    {
     "data": {
      "image/png": "[encoded data removed]",
      "text/plain": [
       "<Figure size 432x288 with 1 Axes>"
      ]
     },
     "metadata": {
      "needs_background": "light"
     },
     "output_type": "display_data"
    }
   ],
   "source": [
    "clf_disp2 = plot_roc_curve(clf2, test_x, test_y)\n",
    "plt.show()"
   ]
  },
  {
   "cell_type": "code",
   "execution_count": 50,
   "metadata": {},
   "outputs": [
    {
     "data": {
      "image/png": "[encoded data removed]",
      "text/plain": [
       "<Figure size 432x288 with 2 Axes>"
      ]
     },
     "metadata": {
      "needs_background": "light"
     },
     "output_type": "display_data"
    }
   ],
   "source": [
    "sb.heatmap(cm2)\n",
    "plt.show()"
   ]
  },
  {
   "cell_type": "code",
   "execution_count": 51,
   "metadata": {},
   "outputs": [
    {
     "data": {
      "text/plain": [
       "array([[496,  31],\n",
       "       [ 76, 107]])"
      ]
     },
     "execution_count": 51,
     "metadata": {},
     "output_type": "execute_result"
    }
   ],
   "source": [
    "cm2"
   ]
  },
  {
   "cell_type": "markdown",
   "metadata": {},
   "source": [
    "The entropy model had ONE MORE CORRECT prediction of the positive class."
   ]
  },
  {
   "cell_type": "markdown",
   "metadata": {},
   "source": [
    "## Lastly...\n",
    "\n",
    "What if we tried to classify only the HIGHER THAN PREDICTED rows set using only the new FACTOR variables?\n",
    "\n",
    "This might not work, but let's see."
   ]
  },
  {
   "cell_type": "code",
   "execution_count": 53,
   "metadata": {},
   "outputs": [
    {
     "data": {
      "text/plain": [
       "(975, 80)"
      ]
     },
     "execution_count": 53,
     "metadata": {},
     "output_type": "execute_result"
    }
   ],
   "source": [
    "mc = pd.read_csv(\"/home/kylier/python/DS/data/PUF/HIGHER_THAN_PREDICTED_FACTORS.csv\")\n",
    "mc.shape"
   ]
  },
  {
   "cell_type": "code",
   "execution_count": 55,
   "metadata": {},
   "outputs": [],
   "source": [
    "mc.drop(columns=mc.columns[0], axis=1, inplace=True, errors=\"ignore\")"
   ]
  },
  {
   "cell_type": "code",
   "execution_count": 56,
   "metadata": {},
   "outputs": [
    {
     "name": "stdout",
     "output_type": "stream",
     "text": [
      "<class 'pandas.core.frame.DataFrame'>\n",
      "RangeIndex: 975 entries, 0 to 974\n",
      "Data columns (total 79 columns):\n",
      " #   Column                      Non-Null Count  Dtype  \n",
      "---  ------                      --------------  -----  \n",
      " 0   FIPS_STATE_CODE             975 non-null    int64  \n",
      " 1   FIPS_COUNTY_CODE            975 non-null    int64  \n",
      " 2   CNTY_BENE_CT                975 non-null    int64  \n",
      " 3   CNTY_BENE_USRS              975 non-null    int64  \n",
      " 4   CNTY_MEAN_AGE               975 non-null    float64\n",
      " 5   CNTY_SEX_PROP               975 non-null    float64\n",
      " 6   TOT_CNCR_CASES              975 non-null    int64  \n",
      " 7   TOT_STRKETIA_CASES          975 non-null    int64  \n",
      " 8   TOT_ESRD_CASES              975 non-null    int64  \n",
      " 9   CNTY_TOT_VSTS               975 non-null    int64  \n",
      " 10  CNTY_TOT_IP_VSTS            975 non-null    int64  \n",
      " 11  CNTY_TOT_OP_VSTS            975 non-null    int64  \n",
      " 12  CNTY_TOT_CODES              975 non-null    float64\n",
      " 13  CNTY_TOT_PROCS              975 non-null    float64\n",
      " 14  CNTY_MEAN_IP_STAY           975 non-null    float64\n",
      " 15  CBSA                        389 non-null    float64\n",
      " 16  CNTY_TOT_CCS                975 non-null    int64  \n",
      " 17  CNTY_MEAN_CCS               975 non-null    float64\n",
      " 18  CNTY_TOT_NEW_CCS            975 non-null    int64  \n",
      " 19  CNTY_MEAN_NEW_CCS           975 non-null    float64\n",
      " 20  CNTY_SUM_ELIX_SCORES        975 non-null    float64\n",
      " 21  CNTY_TOT_IP_COST            975 non-null    int64  \n",
      " 22  CNTY_TOT_OP_COST            975 non-null    int64  \n",
      " 23  CNTY_ALL_COSTS              975 non-null    int64  \n",
      " 24  CNTY_PERCENT_COSTS          975 non-null    float64\n",
      " 25  CNTY_USR_PROP               975 non-null    float64\n",
      " 26  CNTY_IP_PROP                975 non-null    float64\n",
      " 27  CNTY_AGE_95CIL              959 non-null    float64\n",
      " 28  CNTY_AGE_95CIU              959 non-null    float64\n",
      " 29  CNTY_PROP_NH_WHITE          975 non-null    float64\n",
      " 30  CNTY_PROP_AA_BLACK          975 non-null    float64\n",
      " 31  CNTY_PROP_OTHER             975 non-null    float64\n",
      " 32  CNTY_PROP_NW_HISPANIC       975 non-null    float64\n",
      " 33  TOT_CNCR_PREV               975 non-null    float64\n",
      " 34  TOT_STRK_PREV               975 non-null    float64\n",
      " 35  TOT_ESRD_PREV               975 non-null    float64\n",
      " 36  TOT_CVRG_MOS_PB_PY          975 non-null    float64\n",
      " 37  TOT_RXCVRG_MOS_PB_PY        975 non-null    float64\n",
      " 38  TOT_VSTS_PB                 975 non-null    float64\n",
      " 39  TOT_VSTS_PU                 975 non-null    float64\n",
      " 40  TOT_IP_VSTS_PU              975 non-null    float64\n",
      " 41  TOT_OP_VSTS_PU              975 non-null    float64\n",
      " 42  CODES_PU                    975 non-null    float64\n",
      " 43  PROCS_PU                    975 non-null    float64\n",
      " 44  PRVDRS_PU                   975 non-null    float64\n",
      " 45  TOT_IPDAYS_PU               975 non-null    float64\n",
      " 46  TOT_CC_PREV                 975 non-null    float64\n",
      " 47  TOT_CCS_PU                  975 non-null    float64\n",
      " 48  TOT_CC_INCD                 975 non-null    float64\n",
      " 49  TOT_NEW_CC_PU               975 non-null    float64\n",
      " 50  TOT_ELIX_PU                 975 non-null    float64\n",
      " 51  TOT_IP_COST_PB              975 non-null    float64\n",
      " 52  TOT_OP_COST_PB              975 non-null    float64\n",
      " 53  TOT_COST_PB                 975 non-null    float64\n",
      " 54  FIPS                        975 non-null    int64  \n",
      " 55  STATE                       975 non-null    object \n",
      " 56  COUNTY                      975 non-null    object \n",
      " 57  NUM_COUNTIES                975 non-null    int64  \n",
      " 58  HO_RANK                     975 non-null    int64  \n",
      " 59  HO_PROP_RANK                975 non-null    float64\n",
      " 60  HO_QUARTILE                 975 non-null    int64  \n",
      " 61  HF_RANK                     975 non-null    int64  \n",
      " 62  HF_PROP_RANK                975 non-null    float64\n",
      " 63  HF_QUARTILE                 975 non-null    int64  \n",
      " 64  HF_HIGH                     975 non-null    int64  \n",
      " 65  HIGH_SEV                    975 non-null    int64  \n",
      " 66  HIGH_PROCS                  975 non-null    int64  \n",
      " 67  DIVERSE_PROP                975 non-null    float64\n",
      " 68  TOT_COST_PB Predicted       975 non-null    float64\n",
      " 69  Lower 95% Mean TOT_COST_PB  975 non-null    float64\n",
      " 70  Upper 95% Mean TOT_COST_PB  975 non-null    float64\n",
      " 71  Residuals                   975 non-null    float64\n",
      " 72  HIGHER_COST                 975 non-null    int64  \n",
      " 73  SR_TOT_IPDAYS               975 non-null    float64\n",
      " 74  SR_TOT_COST_PB              975 non-null    float64\n",
      " 75  FACTORS_1                   975 non-null    float64\n",
      " 76  FACTORS_2                   975 non-null    float64\n",
      " 77  FACTORS_3                   975 non-null    float64\n",
      " 78  D_FACTOR                    975 non-null    float64\n",
      "dtypes: float64(52), int64(25), object(2)\n",
      "memory usage: 601.9+ KB\n"
     ]
    }
   ],
   "source": [
    "mc.info()"
   ]
  },
  {
   "cell_type": "code",
   "execution_count": 57,
   "metadata": {},
   "outputs": [
    {
     "data": {
      "text/plain": [
       "count    975.000000\n",
       "mean     290.405097\n",
       "std       54.868432\n",
       "min      164.833249\n",
       "25%      249.160936\n",
       "50%      284.892962\n",
       "75%      324.827172\n",
       "max      445.368013\n",
       "Name: SR_TOT_COST_PB, dtype: float64"
      ]
     },
     "execution_count": 57,
     "metadata": {},
     "output_type": "execute_result"
    }
   ],
   "source": [
    "mc[\"SR_TOT_COST_PB\"].describe()"
   ]
  },
  {
   "cell_type": "markdown",
   "metadata": {},
   "source": [
    "## Since these counties are already \"Higher than Predicted\" cost\n",
    "\n",
    "Setting the cut-off at the 25% level."
   ]
  },
  {
   "cell_type": "code",
   "execution_count": 59,
   "metadata": {},
   "outputs": [
    {
     "data": {
      "text/html": [
       "<div>\n",
       "<style scoped>\n",
       "    .dataframe tbody tr th:only-of-type {\n",
       "        vertical-align: middle;\n",
       "    }\n",
       "\n",
       "    .dataframe tbody tr th {\n",
       "        vertical-align: top;\n",
       "    }\n",
       "\n",
       "    .dataframe thead th {\n",
       "        text-align: right;\n",
       "    }\n",
       "</style>\n",
       "<table border=\"1\" class=\"dataframe\">\n",
       "  <thead>\n",
       "    <tr style=\"text-align: right;\">\n",
       "      <th></th>\n",
       "      <th>FACTORS_1</th>\n",
       "      <th>FACTORS_2</th>\n",
       "      <th>FACTORS_3</th>\n",
       "      <th>B_COST</th>\n",
       "    </tr>\n",
       "  </thead>\n",
       "  <tbody>\n",
       "    <tr>\n",
       "      <th>949</th>\n",
       "      <td>-0.288873</td>\n",
       "      <td>0.289165</td>\n",
       "      <td>-0.187332</td>\n",
       "      <td>1.0</td>\n",
       "    </tr>\n",
       "    <tr>\n",
       "      <th>755</th>\n",
       "      <td>-0.055802</td>\n",
       "      <td>0.408960</td>\n",
       "      <td>-0.216046</td>\n",
       "      <td>1.0</td>\n",
       "    </tr>\n",
       "    <tr>\n",
       "      <th>127</th>\n",
       "      <td>0.883905</td>\n",
       "      <td>-0.735503</td>\n",
       "      <td>-1.095119</td>\n",
       "      <td>1.0</td>\n",
       "    </tr>\n",
       "    <tr>\n",
       "      <th>913</th>\n",
       "      <td>-0.434412</td>\n",
       "      <td>0.192382</td>\n",
       "      <td>0.022423</td>\n",
       "      <td>1.0</td>\n",
       "    </tr>\n",
       "    <tr>\n",
       "      <th>136</th>\n",
       "      <td>-0.212793</td>\n",
       "      <td>0.882763</td>\n",
       "      <td>-0.052384</td>\n",
       "      <td>0.0</td>\n",
       "    </tr>\n",
       "    <tr>\n",
       "      <th>...</th>\n",
       "      <td>...</td>\n",
       "      <td>...</td>\n",
       "      <td>...</td>\n",
       "      <td>...</td>\n",
       "    </tr>\n",
       "    <tr>\n",
       "      <th>500</th>\n",
       "      <td>-0.503050</td>\n",
       "      <td>-0.622275</td>\n",
       "      <td>0.033358</td>\n",
       "      <td>1.0</td>\n",
       "    </tr>\n",
       "    <tr>\n",
       "      <th>607</th>\n",
       "      <td>-0.549531</td>\n",
       "      <td>-0.276182</td>\n",
       "      <td>-0.524792</td>\n",
       "      <td>1.0</td>\n",
       "    </tr>\n",
       "    <tr>\n",
       "      <th>264</th>\n",
       "      <td>1.486837</td>\n",
       "      <td>0.973190</td>\n",
       "      <td>0.693359</td>\n",
       "      <td>1.0</td>\n",
       "    </tr>\n",
       "    <tr>\n",
       "      <th>469</th>\n",
       "      <td>-0.316642</td>\n",
       "      <td>-0.857571</td>\n",
       "      <td>-0.960919</td>\n",
       "      <td>1.0</td>\n",
       "    </tr>\n",
       "    <tr>\n",
       "      <th>322</th>\n",
       "      <td>-0.676772</td>\n",
       "      <td>-0.261439</td>\n",
       "      <td>-1.019328</td>\n",
       "      <td>1.0</td>\n",
       "    </tr>\n",
       "  </tbody>\n",
       "</table>\n",
       "<p>731 rows × 4 columns</p>\n",
       "</div>"
      ],
      "text/plain": [
       "     FACTORS_1  FACTORS_2  FACTORS_3  B_COST\n",
       "949  -0.288873   0.289165  -0.187332     1.0\n",
       "755  -0.055802   0.408960  -0.216046     1.0\n",
       "127   0.883905  -0.735503  -1.095119     1.0\n",
       "913  -0.434412   0.192382   0.022423     1.0\n",
       "136  -0.212793   0.882763  -0.052384     0.0\n",
       "..         ...        ...        ...     ...\n",
       "500  -0.503050  -0.622275   0.033358     1.0\n",
       "607  -0.549531  -0.276182  -0.524792     1.0\n",
       "264   1.486837   0.973190   0.693359     1.0\n",
       "469  -0.316642  -0.857571  -0.960919     1.0\n",
       "322  -0.676772  -0.261439  -1.019328     1.0\n",
       "\n",
       "[731 rows x 4 columns]"
      ]
     },
     "execution_count": 59,
     "metadata": {},
     "output_type": "execute_result"
    }
   ],
   "source": [
    "mc.loc[mc[\"SR_TOT_COST_PB\"]>250, \"B_COST\"] = 1\n",
    "mc.loc[mc[\"SR_TOT_COST_PB\"]<=250, \"B_COST\"] = 0\n",
    "\n",
    "df = mc[[\"FACTORS_1\", \"FACTORS_2\", \"FACTORS_3\", \"B_COST\"]]\n",
    "train, test = train_test_split(df, test_size=0.25, random_state=121)\n",
    "\n",
    "train"
   ]
  },
  {
   "cell_type": "code",
   "execution_count": 60,
   "metadata": {},
   "outputs": [],
   "source": [
    "train_x = train[[\"FACTORS_1\", \"FACTORS_2\", \"FACTORS_3\"]]\n",
    "train_y = train[\"B_COST\"]\n",
    "\n",
    "test_x = test[[\"FACTORS_1\", \"FACTORS_2\", \"FACTORS_3\"]]\n",
    "test_y = test[\"B_COST\"]"
   ]
  },
  {
   "cell_type": "code",
   "execution_count": 61,
   "metadata": {},
   "outputs": [],
   "source": [
    "clf3 = RandomForestClassifier(min_samples_leaf=10, random_state=121)\n",
    "clf3.fit(train_x, train_y)\n",
    "\n",
    "# predict on test data\n",
    "prediction3 = clf3.predict(test_x)\n",
    "\n",
    "# compute evaluation scores\n",
    "accuracy3 = accuracy_score(test_y, prediction3)\n",
    "precision3 = precision_score(test_y, prediction3)\n",
    "recall3 = recall_score(test_y, prediction3)\n",
    "cm3 = confusion_matrix(test_y, prediction3)\n",
    "roc3 = roc_auc_score(test_y, prediction3)\n",
    "f13 = f1_score(test_y, prediction3)"
   ]
  },
  {
   "cell_type": "code",
   "execution_count": 62,
   "metadata": {
    "scrolled": true
   },
   "outputs": [
    {
     "data": {
      "text/plain": [
       "0.7008196721311475"
      ]
     },
     "execution_count": 62,
     "metadata": {},
     "output_type": "execute_result"
    }
   ],
   "source": [
    "accuracy3"
   ]
  },
  {
   "cell_type": "code",
   "execution_count": 63,
   "metadata": {},
   "outputs": [
    {
     "data": {
      "text/plain": [
       "0.7008196721311475"
      ]
     },
     "execution_count": 63,
     "metadata": {},
     "output_type": "execute_result"
    }
   ],
   "source": [
    "precision3"
   ]
  },
  {
   "cell_type": "code",
   "execution_count": 64,
   "metadata": {},
   "outputs": [
    {
     "data": {
      "text/plain": [
       "1.0"
      ]
     },
     "execution_count": 64,
     "metadata": {},
     "output_type": "execute_result"
    }
   ],
   "source": [
    "recall3"
   ]
  },
  {
   "cell_type": "code",
   "execution_count": 65,
   "metadata": {},
   "outputs": [
    {
     "data": {
      "text/plain": [
       "0.8240963855421687"
      ]
     },
     "execution_count": 65,
     "metadata": {},
     "output_type": "execute_result"
    }
   ],
   "source": [
    "f13"
   ]
  },
  {
   "cell_type": "code",
   "execution_count": 66,
   "metadata": {},
   "outputs": [
    {
     "data": {
      "text/plain": [
       "<AxesSubplot:>"
      ]
     },
     "execution_count": 66,
     "metadata": {},
     "output_type": "execute_result"
    },
    {
     "data": {
      "image/png": "[encoded data removed]",
      "text/plain": [
       "<Figure size 432x288 with 1 Axes>"
      ]
     },
     "metadata": {
      "needs_background": "light"
     },
     "output_type": "display_data"
    }
   ],
   "source": [
    "feat_importances3 = pd.Series(clf3.feature_importances_, index=train_x.columns)\n",
    "feat_importances3.nlargest(3).plot(kind='barh')"
   ]
  },
  {
   "cell_type": "markdown",
   "metadata": {},
   "source": [
    "## The ROC tells the whole story :-(\n",
    "\n",
    "**This did not work.**  The Factor Analysis is good for grouping variables and explaining how they vary together, but it isn't always good at helping predict anything.  Particularly when outliers are included and outcome variable has a lot of variance!"
   ]
  },
  {
   "cell_type": "code",
   "execution_count": 67,
   "metadata": {
    "scrolled": true
   },
   "outputs": [
    {
     "data": {
      "image/png": "[encoded data removed]",
      "text/plain": [
       "<Figure size 432x288 with 1 Axes>"
      ]
     },
     "metadata": {
      "needs_background": "light"
     },
     "output_type": "display_data"
    }
   ],
   "source": [
    "clf_disp3 = plot_roc_curve(clf3, test_x, test_y)\n",
    "plt.show()"
   ]
  },
  {
   "cell_type": "code",
   "execution_count": 68,
   "metadata": {},
   "outputs": [
    {
     "data": {
      "image/png": "[encoded data removed]",
      "text/plain": [
       "<Figure size 432x288 with 2 Axes>"
      ]
     },
     "metadata": {
      "needs_background": "light"
     },
     "output_type": "display_data"
    }
   ],
   "source": [
    "sb.heatmap(cm3)\n",
    "plt.show()"
   ]
  },
  {
   "cell_type": "code",
   "execution_count": 69,
   "metadata": {},
   "outputs": [
    {
     "data": {
      "text/plain": [
       "array([[  0,  73],\n",
       "       [  0, 171]])"
      ]
     },
     "execution_count": 69,
     "metadata": {},
     "output_type": "execute_result"
    }
   ],
   "source": [
    "cm3"
   ]
  }
 ],
 "metadata": {
  "kernelspec": {
   "display_name": "Python 3",
   "language": "python",
   "name": "python3"
  },
  "language_info": {
   "codemirror_mode": {
    "name": "ipython",
    "version": 3
   },
   "file_extension": ".py",
   "mimetype": "text/x-python",
   "name": "python",
   "nbconvert_exporter": "python",
   "pygments_lexer": "ipython3",
   "version": "3.8.5"
  }
 },
 "nbformat": 4,
 "nbformat_minor": 4
}

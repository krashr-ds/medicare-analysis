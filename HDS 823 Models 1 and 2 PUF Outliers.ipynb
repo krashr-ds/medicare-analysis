{
 "cells": [
  {
   "cell_type": "markdown",
   "metadata": {},
   "source": [
    "# Outlier Handling Notebook: Models 1 & 2\n",
    "\n",
    "**Medicare DeSYNPuf Data: \n",
    "2009 Inpatient Claims for Risk Adjustment Modeling and Correspondence Analysis**\n",
    "\n",
    "HDS 823 Final Project: Advanced Statistics in Healthcare\n",
    "Kyle P. Rasku RN BSN"
   ]
  },
  {
   "cell_type": "code",
   "execution_count": 1,
   "metadata": {},
   "outputs": [],
   "source": [
    "%matplotlib inline\n",
    "import numpy as np\n",
    "import pandas as pd\n",
    "import seaborn as sb\n",
    "import matplotlib.pyplot as plt"
   ]
  },
  {
   "cell_type": "code",
   "execution_count": 2,
   "metadata": {},
   "outputs": [],
   "source": [
    "# Load 2009 IP & ELIX Data, Created by the Cleaning Notebook\n",
    "desynpuf = pd.read_csv(\"/home/kylier/python/DS/data/PUF/PUF_RWJF_IP2009.csv\")"
   ]
  },
  {
   "cell_type": "code",
   "execution_count": 3,
   "metadata": {},
   "outputs": [
    {
     "data": {
      "text/html": [
       "<div>\n",
       "<style scoped>\n",
       "    .dataframe tbody tr th:only-of-type {\n",
       "        vertical-align: middle;\n",
       "    }\n",
       "\n",
       "    .dataframe tbody tr th {\n",
       "        vertical-align: top;\n",
       "    }\n",
       "\n",
       "    .dataframe thead th {\n",
       "        text-align: right;\n",
       "    }\n",
       "</style>\n",
       "<table border=\"1\" class=\"dataframe\">\n",
       "  <thead>\n",
       "    <tr style=\"text-align: right;\">\n",
       "      <th></th>\n",
       "      <th>Unnamed: 0</th>\n",
       "      <th>Unnamed: 0.1</th>\n",
       "      <th>DESYNPUF_ID</th>\n",
       "      <th>BENE_AGE</th>\n",
       "      <th>B_SEX</th>\n",
       "      <th>NH_WHITE</th>\n",
       "      <th>AA_BLACK</th>\n",
       "      <th>OTHER</th>\n",
       "      <th>NW_HISPANIC</th>\n",
       "      <th>B_DIVERSE</th>\n",
       "      <th>...</th>\n",
       "      <th>COUNTY</th>\n",
       "      <th>NUM_COUNTIES</th>\n",
       "      <th>HO_RANK</th>\n",
       "      <th>HO_PROP_RANK</th>\n",
       "      <th>HO_QUARTILE</th>\n",
       "      <th>HF_RANK</th>\n",
       "      <th>HF_PROP_RANK</th>\n",
       "      <th>HF_QUARTILE</th>\n",
       "      <th>StateCode</th>\n",
       "      <th>CountyFIPS</th>\n",
       "    </tr>\n",
       "  </thead>\n",
       "  <tbody>\n",
       "    <tr>\n",
       "      <th>0</th>\n",
       "      <td>0</td>\n",
       "      <td>0</td>\n",
       "      <td>0000438E79D01BEA</td>\n",
       "      <td>73.0</td>\n",
       "      <td>1</td>\n",
       "      <td>1</td>\n",
       "      <td>0</td>\n",
       "      <td>0</td>\n",
       "      <td>0</td>\n",
       "      <td>0.0</td>\n",
       "      <td>...</td>\n",
       "      <td>Hillsborough</td>\n",
       "      <td>67.0</td>\n",
       "      <td>27.0</td>\n",
       "      <td>0.597</td>\n",
       "      <td>2.0</td>\n",
       "      <td>31.0</td>\n",
       "      <td>0.537</td>\n",
       "      <td>2.0</td>\n",
       "      <td>12.0</td>\n",
       "      <td>57.0</td>\n",
       "    </tr>\n",
       "    <tr>\n",
       "      <th>1</th>\n",
       "      <td>1</td>\n",
       "      <td>1</td>\n",
       "      <td>00010E7BEA69142C</td>\n",
       "      <td>72.0</td>\n",
       "      <td>0</td>\n",
       "      <td>1</td>\n",
       "      <td>0</td>\n",
       "      <td>0</td>\n",
       "      <td>0</td>\n",
       "      <td>0.0</td>\n",
       "      <td>...</td>\n",
       "      <td>New Castle</td>\n",
       "      <td>3.0</td>\n",
       "      <td>1.0</td>\n",
       "      <td>0.667</td>\n",
       "      <td>1.0</td>\n",
       "      <td>1.0</td>\n",
       "      <td>0.667</td>\n",
       "      <td>1.0</td>\n",
       "      <td>10.0</td>\n",
       "      <td>3.0</td>\n",
       "    </tr>\n",
       "    <tr>\n",
       "      <th>2</th>\n",
       "      <td>2</td>\n",
       "      <td>2</td>\n",
       "      <td>00015BF6509E1DF7</td>\n",
       "      <td>76.0</td>\n",
       "      <td>0</td>\n",
       "      <td>1</td>\n",
       "      <td>0</td>\n",
       "      <td>0</td>\n",
       "      <td>0</td>\n",
       "      <td>0.0</td>\n",
       "      <td>...</td>\n",
       "      <td>Mecklenburg</td>\n",
       "      <td>100.0</td>\n",
       "      <td>5.0</td>\n",
       "      <td>0.950</td>\n",
       "      <td>1.0</td>\n",
       "      <td>14.0</td>\n",
       "      <td>0.860</td>\n",
       "      <td>1.0</td>\n",
       "      <td>37.0</td>\n",
       "      <td>119.0</td>\n",
       "    </tr>\n",
       "    <tr>\n",
       "      <th>3</th>\n",
       "      <td>3</td>\n",
       "      <td>3</td>\n",
       "      <td>000240D599ED789C</td>\n",
       "      <td>67.0</td>\n",
       "      <td>0</td>\n",
       "      <td>0</td>\n",
       "      <td>1</td>\n",
       "      <td>0</td>\n",
       "      <td>0</td>\n",
       "      <td>1.0</td>\n",
       "      <td>...</td>\n",
       "      <td>Eau Claire</td>\n",
       "      <td>72.0</td>\n",
       "      <td>13.0</td>\n",
       "      <td>0.819</td>\n",
       "      <td>1.0</td>\n",
       "      <td>4.0</td>\n",
       "      <td>0.944</td>\n",
       "      <td>1.0</td>\n",
       "      <td>55.0</td>\n",
       "      <td>35.0</td>\n",
       "    </tr>\n",
       "    <tr>\n",
       "      <th>4</th>\n",
       "      <td>4</td>\n",
       "      <td>4</td>\n",
       "      <td>0003E73AFBA840A8</td>\n",
       "      <td>68.0</td>\n",
       "      <td>0</td>\n",
       "      <td>1</td>\n",
       "      <td>0</td>\n",
       "      <td>0</td>\n",
       "      <td>0</td>\n",
       "      <td>0.0</td>\n",
       "      <td>...</td>\n",
       "      <td>Monroe</td>\n",
       "      <td>62.0</td>\n",
       "      <td>31.0</td>\n",
       "      <td>0.500</td>\n",
       "      <td>2.0</td>\n",
       "      <td>17.0</td>\n",
       "      <td>0.726</td>\n",
       "      <td>2.0</td>\n",
       "      <td>36.0</td>\n",
       "      <td>55.0</td>\n",
       "    </tr>\n",
       "  </tbody>\n",
       "</table>\n",
       "<p>5 rows × 56 columns</p>\n",
       "</div>"
      ],
      "text/plain": [
       "   Unnamed: 0  Unnamed: 0.1       DESYNPUF_ID  BENE_AGE  B_SEX  NH_WHITE  \\\n",
       "0           0             0  0000438E79D01BEA      73.0      1         1   \n",
       "1           1             1  00010E7BEA69142C      72.0      0         1   \n",
       "2           2             2  00015BF6509E1DF7      76.0      0         1   \n",
       "3           3             3  000240D599ED789C      67.0      0         0   \n",
       "4           4             4  0003E73AFBA840A8      68.0      0         1   \n",
       "\n",
       "   AA_BLACK  OTHER  NW_HISPANIC  B_DIVERSE  ...        COUNTY  NUM_COUNTIES  \\\n",
       "0         0      0            0        0.0  ...  Hillsborough          67.0   \n",
       "1         0      0            0        0.0  ...    New Castle           3.0   \n",
       "2         0      0            0        0.0  ...   Mecklenburg         100.0   \n",
       "3         1      0            0        1.0  ...    Eau Claire          72.0   \n",
       "4         0      0            0        0.0  ...        Monroe          62.0   \n",
       "\n",
       "   HO_RANK  HO_PROP_RANK  HO_QUARTILE  HF_RANK  HF_PROP_RANK  HF_QUARTILE  \\\n",
       "0     27.0         0.597          2.0     31.0         0.537          2.0   \n",
       "1      1.0         0.667          1.0      1.0         0.667          1.0   \n",
       "2      5.0         0.950          1.0     14.0         0.860          1.0   \n",
       "3     13.0         0.819          1.0      4.0         0.944          1.0   \n",
       "4     31.0         0.500          2.0     17.0         0.726          2.0   \n",
       "\n",
       "   StateCode  CountyFIPS  \n",
       "0       12.0        57.0  \n",
       "1       10.0         3.0  \n",
       "2       37.0       119.0  \n",
       "3       55.0        35.0  \n",
       "4       36.0        55.0  \n",
       "\n",
       "[5 rows x 56 columns]"
      ]
     },
     "execution_count": 3,
     "metadata": {},
     "output_type": "execute_result"
    }
   ],
   "source": [
    "desynpuf.head()"
   ]
  },
  {
   "cell_type": "code",
   "execution_count": 4,
   "metadata": {},
   "outputs": [
    {
     "data": {
      "text/plain": [
       "DESYNPUF_ID             0\n",
       "BENE_AGE                0\n",
       "B_SEX                   0\n",
       "NH_WHITE                0\n",
       "AA_BLACK                0\n",
       "OTHER                   0\n",
       "NW_HISPANIC             0\n",
       "B_DIVERSE               0\n",
       "B_ALZHDMTA              0\n",
       "B_CHF                   0\n",
       "B_CNCR                  0\n",
       "B_COPD                  0\n",
       "B_DEPRESSN              0\n",
       "B_DIABETES              0\n",
       "B_ISCHMCHT              0\n",
       "B_OSTEOPRS              0\n",
       "B_CHRNKIDN              0\n",
       "B_RA_OA                 0\n",
       "B_STRKETIA              0\n",
       "B_ESRD                  0\n",
       "B_DIED                  0\n",
       "CVRG_MOS                0\n",
       "RX_CVRG_MOS             0\n",
       "MEAN_ELIX_SCORE         0\n",
       "TOTAL_VISITS            0\n",
       "TOTAL_CODES             0\n",
       "MEAN_CODES_VISIT        0\n",
       "MEAN_CHRONIC            0\n",
       "ALLCOSTS                0\n",
       "MEAN_COST_VISIT         0\n",
       "TOTAL_LOS               0\n",
       "MEAN_LOS            95763\n",
       "TOTAL_PHYS              0\n",
       "MEAN_PHYS_VISIT         0\n",
       "CBSA                    0\n",
       "FULL_FIPS_CODE          0\n",
       "FIPS_STATE_CODE         0\n",
       "FIPS_COUNTY_CODE        0\n",
       "TOTCHRONIC              0\n",
       "AGE_GROUP               0\n",
       "ANY_COSTS               0\n",
       "PERCENT_COSTS           0\n",
       "FIPS                 1779\n",
       "STATE                1779\n",
       "COUNTY               1779\n",
       "NUM_COUNTIES         1779\n",
       "HO_RANK              1875\n",
       "HO_PROP_RANK         1875\n",
       "HO_QUARTILE          1875\n",
       "HF_RANK              1875\n",
       "HF_PROP_RANK         1875\n",
       "HF_QUARTILE          1875\n",
       "StateCode            1779\n",
       "CountyFIPS           1779\n",
       "dtype: int64"
      ]
     },
     "execution_count": 4,
     "metadata": {},
     "output_type": "execute_result"
    }
   ],
   "source": [
    "desynpuf.drop([\"Unnamed: 0\", \"Unnamed: 0.1\"], axis=1, inplace=True, errors=\"ignore\")\n",
    "desynpuf.isnull().sum() "
   ]
  },
  {
   "cell_type": "code",
   "execution_count": 5,
   "metadata": {},
   "outputs": [],
   "source": [
    "desynpuf[\"MEAN_LOS\"].fillna(0, inplace=True)\n",
    "desynpuf[\"FIPS\"].fillna(0, inplace=True)\n",
    "desynpuf[\"STATE\"].fillna(\"None\", inplace=True)\n",
    "desynpuf[\"COUNTY\"].fillna(\"None\", inplace=True)\n",
    "desynpuf.drop([\"NUM_COUNTIES\", \"HO_RANK\", \"HF_RANK\", \"StateCode\", \"CountyFIPS\"], axis=1, inplace=True, errors=\"ignore\")"
   ]
  },
  {
   "cell_type": "code",
   "execution_count": 6,
   "metadata": {},
   "outputs": [
    {
     "data": {
      "text/plain": [
       "(114380, 49)"
      ]
     },
     "execution_count": 6,
     "metadata": {},
     "output_type": "execute_result"
    }
   ],
   "source": [
    "desynpuf.shape"
   ]
  },
  {
   "cell_type": "markdown",
   "metadata": {},
   "source": [
    "## Deaths in 2009"
   ]
  },
  {
   "cell_type": "code",
   "execution_count": 7,
   "metadata": {},
   "outputs": [
    {
     "data": {
      "text/plain": [
       "0.0    0.984927\n",
       "1.0    0.015073\n",
       "Name: B_DIED, dtype: float64"
      ]
     },
     "execution_count": 7,
     "metadata": {},
     "output_type": "execute_result"
    }
   ],
   "source": [
    "# Set B_DIED fields that are = 2 to 1\n",
    "desynpuf.loc[desynpuf[\"B_DIED\"]>1, \"B_DIED\"] = 1.0\n",
    "desynpuf[\"B_DIED\"].value_counts(normalize=True)"
   ]
  },
  {
   "cell_type": "code",
   "execution_count": 8,
   "metadata": {},
   "outputs": [],
   "source": [
    "s = desynpuf[[\"MEAN_ELIX_SCORE\", \"TOTAL_LOS\", \"MEAN_LOS\", \"TOTAL_VISITS\", \"TOTAL_CODES\", \"MEAN_CODES_VISIT\", \n",
    "              \"TOTAL_PHYS\", \"MEAN_PHYS_VISIT\", \"ALLCOSTS\", \"MEAN_COST_VISIT\", \"TOTCHRONIC\", \"MEAN_CHRONIC\"]]"
   ]
  },
  {
   "cell_type": "code",
   "execution_count": 9,
   "metadata": {},
   "outputs": [
    {
     "data": {
      "text/html": [
       "<div>\n",
       "<style scoped>\n",
       "    .dataframe tbody tr th:only-of-type {\n",
       "        vertical-align: middle;\n",
       "    }\n",
       "\n",
       "    .dataframe tbody tr th {\n",
       "        vertical-align: top;\n",
       "    }\n",
       "\n",
       "    .dataframe thead th {\n",
       "        text-align: right;\n",
       "    }\n",
       "</style>\n",
       "<table border=\"1\" class=\"dataframe\">\n",
       "  <thead>\n",
       "    <tr style=\"text-align: right;\">\n",
       "      <th></th>\n",
       "      <th>count</th>\n",
       "      <th>mean</th>\n",
       "      <th>std</th>\n",
       "      <th>min</th>\n",
       "      <th>25%</th>\n",
       "      <th>50%</th>\n",
       "      <th>75%</th>\n",
       "      <th>max</th>\n",
       "      <th>X6</th>\n",
       "    </tr>\n",
       "  </thead>\n",
       "  <tbody>\n",
       "    <tr>\n",
       "      <th>MEAN_ELIX_SCORE</th>\n",
       "      <td>114380.0</td>\n",
       "      <td>1.277365</td>\n",
       "      <td>2.188974</td>\n",
       "      <td>-1.0</td>\n",
       "      <td>0.0</td>\n",
       "      <td>0.0</td>\n",
       "      <td>2.0</td>\n",
       "      <td>34.0</td>\n",
       "      <td>14.411210</td>\n",
       "    </tr>\n",
       "    <tr>\n",
       "      <th>TOTAL_LOS</th>\n",
       "      <td>114380.0</td>\n",
       "      <td>1.222635</td>\n",
       "      <td>4.525450</td>\n",
       "      <td>0.0</td>\n",
       "      <td>0.0</td>\n",
       "      <td>0.0</td>\n",
       "      <td>0.0</td>\n",
       "      <td>216.0</td>\n",
       "      <td>28.375337</td>\n",
       "    </tr>\n",
       "    <tr>\n",
       "      <th>MEAN_LOS</th>\n",
       "      <td>114380.0</td>\n",
       "      <td>0.889788</td>\n",
       "      <td>3.023198</td>\n",
       "      <td>0.0</td>\n",
       "      <td>0.0</td>\n",
       "      <td>0.0</td>\n",
       "      <td>0.0</td>\n",
       "      <td>140.0</td>\n",
       "      <td>19.028974</td>\n",
       "    </tr>\n",
       "    <tr>\n",
       "      <th>TOTAL_VISITS</th>\n",
       "      <td>114380.0</td>\n",
       "      <td>0.217346</td>\n",
       "      <td>0.564258</td>\n",
       "      <td>0.0</td>\n",
       "      <td>0.0</td>\n",
       "      <td>0.0</td>\n",
       "      <td>0.0</td>\n",
       "      <td>8.0</td>\n",
       "      <td>3.602893</td>\n",
       "    </tr>\n",
       "    <tr>\n",
       "      <th>TOTAL_CODES</th>\n",
       "      <td>114380.0</td>\n",
       "      <td>2.078703</td>\n",
       "      <td>5.599753</td>\n",
       "      <td>0.0</td>\n",
       "      <td>0.0</td>\n",
       "      <td>0.0</td>\n",
       "      <td>0.0</td>\n",
       "      <td>94.0</td>\n",
       "      <td>35.677223</td>\n",
       "    </tr>\n",
       "    <tr>\n",
       "      <th>MEAN_CODES_VISIT</th>\n",
       "      <td>114380.0</td>\n",
       "      <td>1.547467</td>\n",
       "      <td>3.654879</td>\n",
       "      <td>0.0</td>\n",
       "      <td>0.0</td>\n",
       "      <td>0.0</td>\n",
       "      <td>0.0</td>\n",
       "      <td>16.0</td>\n",
       "      <td>23.476743</td>\n",
       "    </tr>\n",
       "    <tr>\n",
       "      <th>TOTAL_PHYS</th>\n",
       "      <td>114380.0</td>\n",
       "      <td>0.434079</td>\n",
       "      <td>1.126821</td>\n",
       "      <td>0.0</td>\n",
       "      <td>0.0</td>\n",
       "      <td>0.0</td>\n",
       "      <td>0.0</td>\n",
       "      <td>16.0</td>\n",
       "      <td>7.195006</td>\n",
       "    </tr>\n",
       "    <tr>\n",
       "      <th>MEAN_PHYS_VISIT</th>\n",
       "      <td>114380.0</td>\n",
       "      <td>0.325153</td>\n",
       "      <td>0.737642</td>\n",
       "      <td>0.0</td>\n",
       "      <td>0.0</td>\n",
       "      <td>0.0</td>\n",
       "      <td>0.0</td>\n",
       "      <td>2.0</td>\n",
       "      <td>4.751003</td>\n",
       "    </tr>\n",
       "    <tr>\n",
       "      <th>ALLCOSTS</th>\n",
       "      <td>114380.0</td>\n",
       "      <td>4260.904494</td>\n",
       "      <td>21220.421630</td>\n",
       "      <td>-2932.0</td>\n",
       "      <td>0.0</td>\n",
       "      <td>0.0</td>\n",
       "      <td>0.0</td>\n",
       "      <td>1570688.0</td>\n",
       "      <td>131583.434272</td>\n",
       "    </tr>\n",
       "    <tr>\n",
       "      <th>MEAN_COST_VISIT</th>\n",
       "      <td>114380.0</td>\n",
       "      <td>2514.398654</td>\n",
       "      <td>8297.948786</td>\n",
       "      <td>-2932.0</td>\n",
       "      <td>0.0</td>\n",
       "      <td>0.0</td>\n",
       "      <td>0.0</td>\n",
       "      <td>196336.0</td>\n",
       "      <td>52302.091369</td>\n",
       "    </tr>\n",
       "    <tr>\n",
       "      <th>TOTCHRONIC</th>\n",
       "      <td>114380.0</td>\n",
       "      <td>2.583878</td>\n",
       "      <td>2.521415</td>\n",
       "      <td>0.0</td>\n",
       "      <td>0.0</td>\n",
       "      <td>2.0</td>\n",
       "      <td>4.0</td>\n",
       "      <td>11.0</td>\n",
       "      <td>17.712368</td>\n",
       "    </tr>\n",
       "    <tr>\n",
       "      <th>MEAN_CHRONIC</th>\n",
       "      <td>114380.0</td>\n",
       "      <td>2.583878</td>\n",
       "      <td>2.521415</td>\n",
       "      <td>0.0</td>\n",
       "      <td>0.0</td>\n",
       "      <td>2.0</td>\n",
       "      <td>4.0</td>\n",
       "      <td>11.0</td>\n",
       "      <td>17.712368</td>\n",
       "    </tr>\n",
       "  </tbody>\n",
       "</table>\n",
       "</div>"
      ],
      "text/plain": [
       "                     count         mean           std     min  25%  50%  75%  \\\n",
       "MEAN_ELIX_SCORE   114380.0     1.277365      2.188974    -1.0  0.0  0.0  2.0   \n",
       "TOTAL_LOS         114380.0     1.222635      4.525450     0.0  0.0  0.0  0.0   \n",
       "MEAN_LOS          114380.0     0.889788      3.023198     0.0  0.0  0.0  0.0   \n",
       "TOTAL_VISITS      114380.0     0.217346      0.564258     0.0  0.0  0.0  0.0   \n",
       "TOTAL_CODES       114380.0     2.078703      5.599753     0.0  0.0  0.0  0.0   \n",
       "MEAN_CODES_VISIT  114380.0     1.547467      3.654879     0.0  0.0  0.0  0.0   \n",
       "TOTAL_PHYS        114380.0     0.434079      1.126821     0.0  0.0  0.0  0.0   \n",
       "MEAN_PHYS_VISIT   114380.0     0.325153      0.737642     0.0  0.0  0.0  0.0   \n",
       "ALLCOSTS          114380.0  4260.904494  21220.421630 -2932.0  0.0  0.0  0.0   \n",
       "MEAN_COST_VISIT   114380.0  2514.398654   8297.948786 -2932.0  0.0  0.0  0.0   \n",
       "TOTCHRONIC        114380.0     2.583878      2.521415     0.0  0.0  2.0  4.0   \n",
       "MEAN_CHRONIC      114380.0     2.583878      2.521415     0.0  0.0  2.0  4.0   \n",
       "\n",
       "                        max             X6  \n",
       "MEAN_ELIX_SCORE        34.0      14.411210  \n",
       "TOTAL_LOS             216.0      28.375337  \n",
       "MEAN_LOS              140.0      19.028974  \n",
       "TOTAL_VISITS            8.0       3.602893  \n",
       "TOTAL_CODES            94.0      35.677223  \n",
       "MEAN_CODES_VISIT       16.0      23.476743  \n",
       "TOTAL_PHYS             16.0       7.195006  \n",
       "MEAN_PHYS_VISIT         2.0       4.751003  \n",
       "ALLCOSTS          1570688.0  131583.434272  \n",
       "MEAN_COST_VISIT    196336.0   52302.091369  \n",
       "TOTCHRONIC             11.0      17.712368  \n",
       "MEAN_CHRONIC           11.0      17.712368  "
      ]
     },
     "execution_count": 9,
     "metadata": {},
     "output_type": "execute_result"
    }
   ],
   "source": [
    "sb = s.describe().T\n",
    "sb[\"X6\"] = sb[\"mean\"]+(sb[\"std\"]*6)\n",
    "sb"
   ]
  },
  {
   "cell_type": "markdown",
   "metadata": {},
   "source": [
    "## Outlier Removal\n",
    "\n",
    "Remove: \n",
    "\n",
    "Rows where MEAN_ELIX_SCORE > 13\n",
    "\n",
    "Rows where TOTAL_VISITS > 6\n",
    "\n",
    "Rows where TOTAL_LOS > 65\n",
    "\n",
    "Rows where MEAN_LOS > 20\n",
    "\n",
    "Rows where MEAN_CODES_VISIT > 15\n",
    "\n",
    "Rows where TOTAL_CODES > 40\n",
    "\n",
    "Rows where TOTAL_PHYS > 8\n",
    "\n",
    "Rows where ALLCOSTS > 400000\n",
    "\n",
    "Rows where TOTCHRONIC > 11\n",
    "\n",
    "Rows where MEAN_COST_VISIT > 100000"
   ]
  },
  {
   "cell_type": "code",
   "execution_count": 10,
   "metadata": {},
   "outputs": [
    {
     "data": {
      "text/plain": [
       "(114380, 49)"
      ]
     },
     "execution_count": 10,
     "metadata": {},
     "output_type": "execute_result"
    }
   ],
   "source": [
    "desynpuf.shape"
   ]
  },
  {
   "cell_type": "code",
   "execution_count": 11,
   "metadata": {},
   "outputs": [
    {
     "data": {
      "text/plain": [
       "(113145, 49)"
      ]
     },
     "execution_count": 11,
     "metadata": {},
     "output_type": "execute_result"
    }
   ],
   "source": [
    "desynpuf = desynpuf[desynpuf[\"MEAN_ELIX_SCORE\"]<10]\n",
    "desynpuf.shape"
   ]
  },
  {
   "cell_type": "code",
   "execution_count": 12,
   "metadata": {},
   "outputs": [
    {
     "data": {
      "text/plain": [
       "(113140, 49)"
      ]
     },
     "execution_count": 12,
     "metadata": {},
     "output_type": "execute_result"
    }
   ],
   "source": [
    "desynpuf = desynpuf[desynpuf[\"TOTAL_VISITS\"]<7]\n",
    "desynpuf.shape"
   ]
  },
  {
   "cell_type": "code",
   "execution_count": 13,
   "metadata": {},
   "outputs": [
    {
     "data": {
      "text/plain": [
       "(113096, 49)"
      ]
     },
     "execution_count": 13,
     "metadata": {},
     "output_type": "execute_result"
    }
   ],
   "source": [
    "desynpuf = desynpuf[desynpuf[\"TOTAL_LOS\"]<66]\n",
    "desynpuf.shape"
   ]
  },
  {
   "cell_type": "code",
   "execution_count": 14,
   "metadata": {},
   "outputs": [
    {
     "data": {
      "text/plain": [
       "(112749, 49)"
      ]
     },
     "execution_count": 14,
     "metadata": {},
     "output_type": "execute_result"
    }
   ],
   "source": [
    "desynpuf = desynpuf[desynpuf[\"MEAN_LOS\"]<21]\n",
    "desynpuf.shape"
   ]
  },
  {
   "cell_type": "code",
   "execution_count": 15,
   "metadata": {},
   "outputs": [
    {
     "data": {
      "text/plain": [
       "(112673, 49)"
      ]
     },
     "execution_count": 15,
     "metadata": {},
     "output_type": "execute_result"
    }
   ],
   "source": [
    "desynpuf = desynpuf[desynpuf[\"MEAN_CODES_VISIT\"]<16]\n",
    "desynpuf.shape"
   ]
  },
  {
   "cell_type": "code",
   "execution_count": 16,
   "metadata": {},
   "outputs": [
    {
     "data": {
      "text/plain": [
       "(112502, 49)"
      ]
     },
     "execution_count": 16,
     "metadata": {},
     "output_type": "execute_result"
    }
   ],
   "source": [
    "desynpuf = desynpuf[desynpuf[\"TOTAL_CODES\"]<41]\n",
    "desynpuf.shape"
   ]
  },
  {
   "cell_type": "code",
   "execution_count": 17,
   "metadata": {},
   "outputs": [
    {
     "data": {
      "text/plain": [
       "(112501, 49)"
      ]
     },
     "execution_count": 17,
     "metadata": {},
     "output_type": "execute_result"
    }
   ],
   "source": [
    "desynpuf = desynpuf[desynpuf[\"TOTAL_PHYS\"]<9]\n",
    "desynpuf.shape"
   ]
  },
  {
   "cell_type": "code",
   "execution_count": 18,
   "metadata": {},
   "outputs": [
    {
     "data": {
      "text/plain": [
       "(112500, 49)"
      ]
     },
     "execution_count": 18,
     "metadata": {},
     "output_type": "execute_result"
    }
   ],
   "source": [
    "desynpuf = desynpuf[desynpuf[\"ALLCOSTS\"]<400001]\n",
    "desynpuf.shape"
   ]
  },
  {
   "cell_type": "code",
   "execution_count": 19,
   "metadata": {},
   "outputs": [
    {
     "data": {
      "text/plain": [
       "(112206, 49)"
      ]
     },
     "execution_count": 19,
     "metadata": {},
     "output_type": "execute_result"
    }
   ],
   "source": [
    "desynpuf = desynpuf[desynpuf[\"TOTCHRONIC\"]<10]\n",
    "desynpuf.shape"
   ]
  },
  {
   "cell_type": "code",
   "execution_count": 20,
   "metadata": {},
   "outputs": [
    {
     "data": {
      "text/plain": [
       "(112183, 49)"
      ]
     },
     "execution_count": 20,
     "metadata": {},
     "output_type": "execute_result"
    }
   ],
   "source": [
    "desynpuf = desynpuf[desynpuf[\"MEAN_COST_VISIT\"]<100001]\n",
    "desynpuf.shape"
   ]
  },
  {
   "cell_type": "code",
   "execution_count": 21,
   "metadata": {},
   "outputs": [
    {
     "data": {
      "text/plain": [
       "(112182, 49)"
      ]
     },
     "execution_count": 21,
     "metadata": {},
     "output_type": "execute_result"
    }
   ],
   "source": [
    "desynpuf = desynpuf[desynpuf[\"ALLCOSTS\"]>=0]\n",
    "desynpuf.shape"
   ]
  },
  {
   "cell_type": "markdown",
   "metadata": {},
   "source": [
    "## Total Rows Removed: 2198"
   ]
  },
  {
   "cell_type": "code",
   "execution_count": 22,
   "metadata": {},
   "outputs": [],
   "source": [
    "desynpuf.to_csv(\"/home/kylier/python/DS/data/PUF/PUF_ELIX_IP2009.csv\")"
   ]
  },
  {
   "cell_type": "code",
   "execution_count": null,
   "metadata": {},
   "outputs": [],
   "source": []
  }
 ],
 "metadata": {
  "kernelspec": {
   "display_name": "Python 3",
   "language": "python",
   "name": "python3"
  },
  "language_info": {
   "codemirror_mode": {
    "name": "ipython",
    "version": 3
   },
   "file_extension": ".py",
   "mimetype": "text/x-python",
   "name": "python",
   "nbconvert_exporter": "python",
   "pygments_lexer": "ipython3",
   "version": "3.8.5"
  }
 },
 "nbformat": 4,
 "nbformat_minor": 4
}
